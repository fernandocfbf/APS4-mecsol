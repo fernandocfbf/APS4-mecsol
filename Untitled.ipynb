{
 "cells": [
  {
   "cell_type": "markdown",
   "metadata": {},
   "source": [
    "# Treliça 3_2 - MAX: 1000"
   ]
  },
  {
   "cell_type": "code",
   "execution_count": 1,
   "metadata": {},
   "outputs": [],
   "source": [
    "import matplotlib.pyplot as plt\n",
    "import numpy as np\n",
    "from funcoesTermosol import *\n",
    "import math\n",
    "from app_utils import *"
   ]
  },
  {
   "cell_type": "code",
   "execution_count": 2,
   "metadata": {},
   "outputs": [],
   "source": [
    "num_nos, matriz_nos, num_membros, matriz_incidencia, num_cargas, v_carregamento, num_rest, v_rest = importa(\"LAIS.xlsx\")"
   ]
  },
  {
   "cell_type": "code",
   "execution_count": 3,
   "metadata": {},
   "outputs": [],
   "source": [
    "v_carregamento[13] = -4150\n",
    "v_carregamento[15] = -4150"
   ]
  },
  {
   "cell_type": "code",
   "execution_count": 4,
   "metadata": {},
   "outputs": [],
   "source": [
    "#calcula matriz de conectividade global\n",
    "conectividade_global = conec_global_T(matriz_incidencia, num_membros, num_nos)\n",
    "conectividade_global;"
   ]
  },
  {
   "cell_type": "code",
   "execution_count": 5,
   "metadata": {},
   "outputs": [],
   "source": [
    "#calcula matriz dos membros\n",
    "matriz_dos_membros = np.dot(matriz_nos, conectividade_global) \n",
    "matriz_dos_membros;"
   ]
  },
  {
   "cell_type": "code",
   "execution_count": 6,
   "metadata": {},
   "outputs": [],
   "source": [
    "calculate_Se(1, matriz_incidencia, matriz_nos, matriz_dos_membros);"
   ]
  },
  {
   "cell_type": "code",
   "execution_count": 7,
   "metadata": {},
   "outputs": [],
   "source": [
    "calculate_K(1, matriz_incidencia, matriz_nos, matriz_dos_membros, num_nos);"
   ]
  },
  {
   "cell_type": "code",
   "execution_count": 8,
   "metadata": {},
   "outputs": [],
   "source": [
    "#caclula matriz de rigidez global\n",
    "KG = matriz_global(num_nos, num_membros, matriz_incidencia, matriz_nos, matriz_dos_membros) "
   ]
  },
  {
   "cell_type": "code",
   "execution_count": 9,
   "metadata": {},
   "outputs": [],
   "source": [
    "KG;"
   ]
  },
  {
   "cell_type": "code",
   "execution_count": 10,
   "metadata": {},
   "outputs": [],
   "source": [
    "#condição de contorno\n",
    "Pg = vetor_global_de_forcas(num_rest, v_rest, v_carregamento)\n",
    "Pg;"
   ]
  },
  {
   "cell_type": "code",
   "execution_count": 11,
   "metadata": {},
   "outputs": [],
   "source": [
    "#exclui linhas e colunas\n",
    "KG_solucao = MR_para_solucao(KG, v_rest)"
   ]
  },
  {
   "cell_type": "code",
   "execution_count": 12,
   "metadata": {},
   "outputs": [
    {
     "name": "stderr",
     "output_type": "stream",
     "text": [
      " 29%|█████████████████████▏                                                   | 29032/100000 [00:11<00:26, 2636.35it/s]"
     ]
    },
    {
     "name": "stdout",
     "output_type": "stream",
     "text": [
      "Convergiu na 29032º iteracao\n"
     ]
    },
    {
     "name": "stderr",
     "output_type": "stream",
     "text": [
      "\n"
     ]
    }
   ],
   "source": [
    "#calcula os deslocamentos usando a solução de gauss\n",
    "u = solucao_gauss(KG_solucao, Pg, 100000, 1e-4)"
   ]
  },
  {
   "cell_type": "code",
   "execution_count": 13,
   "metadata": {},
   "outputs": [],
   "source": [
    "#adiciona 0 nos deslocamentos nulos\n",
    "u_completo = completa_u(u, v_rest)"
   ]
  },
  {
   "cell_type": "code",
   "execution_count": 14,
   "metadata": {},
   "outputs": [],
   "source": [
    "u_completo;"
   ]
  },
  {
   "cell_type": "code",
   "execution_count": 15,
   "metadata": {},
   "outputs": [],
   "source": [
    "#calcula todas as forças de apoio\n",
    "forcas = calculate_force_complete(KG, u_completo, v_rest)"
   ]
  },
  {
   "cell_type": "code",
   "execution_count": 16,
   "metadata": {},
   "outputs": [
    {
     "name": "stdout",
     "output_type": "stream",
     "text": [
      "R1x: [2919.36406715]\n",
      "R1y: [2263.81426305]\n",
      "R2x: [-3631.91695212]\n",
      "R2y: [2418.3811909]\n"
     ]
    }
   ],
   "source": [
    "title_to_print = [\"R1x\", \"R1y\", \"R2x\", \"R2y\"]\n",
    "for i in range(len(title_to_print)):\n",
    "    print(\"{0}: {1}\".format(title_to_print[i], forcas[i]))"
   ]
  },
  {
   "cell_type": "code",
   "execution_count": 17,
   "metadata": {},
   "outputs": [],
   "source": [
    "#área fornecida pela estrutura\n",
    "area = 0.00009"
   ]
  },
  {
   "cell_type": "code",
   "execution_count": 18,
   "metadata": {
    "scrolled": true
   },
   "outputs": [
    {
     "name": "stdout",
     "output_type": "stream",
     "text": [
      "Membro 1: tensao: 15,517,867.64 | deformacao: 0.003879466910606182 | força: 1,396.61\n",
      "Membro 2: tensao: -10,139,155.37 | deformacao: -0.0025347888420878674 | força: -912.52\n",
      "Membro 3: tensao: -16,718,781.48 | deformacao: -0.0041796953701836335 | força: -1,504.69\n",
      "Membro 4: tensao: -7,899,494.04 | deformacao: -0.0019748735107513824 | força: -710.95\n",
      "Membro 5: tensao: 16,980,268.45 | deformacao: 0.004245067113743236 | força: 1,528.22\n",
      "Membro 6: tensao: -16,705,303.47 | deformacao: -0.004176325868532857 | força: -1,503.48\n",
      "Membro 7: tensao: -15,420,442.57 | deformacao: -0.003855110641517861 | força: -1,387.84\n",
      "Membro 8: tensao: -17,964,710.99 | deformacao: -0.0044911777469606295 | força: -1,616.82\n",
      "Membro 9: tensao: -16,114,178.07 | deformacao: -0.0040285445180197775 | força: -1,450.28\n",
      "Membro 10: tensao: -17,473,117.63 | deformacao: -0.004368279407528599 | força: -1,572.58\n",
      "Membro 11: tensao: 11,125,927.86 | deformacao: 0.0027814819660947473 | força: 1,001.33\n",
      "Membro 12: tensao: -1,574,772.25 | deformacao: -0.0003936930636731357 | força: -141.73\n",
      "Membro 13: tensao: 13,933,985.75 | deformacao: 0.00348349643831445 | força: 1,254.06\n",
      "Membro 14: tensao: 12,154,699.16 | deformacao: 0.0030386747910219 | força: 1,093.92\n",
      "Membro 15: tensao: 9,457,663.95 | deformacao: 0.002364415986697405 | força: 851.19\n",
      "Membro 16: tensao: 6,310,286.73 | deformacao: 0.0015775716823163881 | força: 567.93\n",
      "Membro 17: tensao: -8,125,517.84 | deformacao: -0.0020313794611482414 | força: -731.3\n",
      "Membro 18: tensao: -4,866,676.39 | deformacao: -0.001216669096462694 | força: -438.0\n",
      "Membro 19: tensao: -15,515,381.42 | deformacao: -0.0038788453555485486 | força: -1,396.38\n",
      "Membro 20: tensao: -15,536,695.18 | deformacao: -0.0038841737945052323 | força: -1,398.3\n",
      "Membro 21: tensao: -17,876,295.8 | deformacao: -0.004469073949209274 | força: -1,608.87\n",
      "Membro 22: tensao: -17,871,388.73 | deformacao: -0.004467847183079587 | força: -1,608.42\n",
      "Membro 23: tensao: -15,951,364.95 | deformacao: -0.003987841237270611 | força: -1,435.62\n",
      "Membro 24: tensao: -16,111,786.3 | deformacao: -0.00402794657420564 | força: -1,450.06\n"
     ]
    }
   ],
   "source": [
    "forca_membros=[]\n",
    "tensao_membros=[]\n",
    "deform_membros=[]\n",
    "for i in range(num_membros):\n",
    "    tensao, deformacao, forca = tensao_e_deformacao(i+1, num_membros, u_completo, matriz_incidencia, matriz_nos, area)\n",
    "    forca_membros.append(forca)\n",
    "    tensao_membros.append(tensao)\n",
    "    deform_membros.append(deformacao)\n",
    "    print(\"Membro {:,}: tensao: {:,} | deformacao: {:,} | força: {:,}\".format(i+1, round(tensao,2), deformacao, round(forca,2)))"
   ]
  },
  {
   "cell_type": "code",
   "execution_count": 19,
   "metadata": {},
   "outputs": [
    {
     "data": {
      "text/plain": [
       "-17964710.98784252"
      ]
     },
     "execution_count": 19,
     "metadata": {},
     "output_type": "execute_result"
    }
   ],
   "source": [
    "min(tensao_membros)"
   ]
  },
  {
   "cell_type": "code",
   "execution_count": 20,
   "metadata": {},
   "outputs": [
    {
     "data": {
      "text/plain": [
       "16980268.454972945"
      ]
     },
     "execution_count": 20,
     "metadata": {},
     "output_type": "execute_result"
    }
   ],
   "source": [
    "max(tensao_membros)"
   ]
  },
  {
   "cell_type": "code",
   "execution_count": 21,
   "metadata": {},
   "outputs": [],
   "source": [
    "#Algum membro ultrapassou a tensão de ruptura em tração ou compressão;\n",
    "min(tensao_membros)\n",
    "for e in tensao_membros:\n",
    "    if abs(e) > 18*(10**6):\n",
    "        print(\"Colapso\")"
   ]
  },
  {
   "cell_type": "code",
   "execution_count": 22,
   "metadata": {},
   "outputs": [],
   "source": [
    "#Algum membro teve deformação maior do que 5%.\n",
    "for i in deform_membros:\n",
    "    if i > 0.05:\n",
    "        print(\"Colapso\")"
   ]
  },
  {
   "cell_type": "code",
   "execution_count": 23,
   "metadata": {},
   "outputs": [],
   "source": [
    "#Algum nó se deslocou mais do que 20mm em X ou em Y.\n",
    "for us in u_completo:\n",
    "    if abs(us) > 0.02:\n",
    "         print(\"Colapso\")"
   ]
  },
  {
   "cell_type": "code",
   "execution_count": 24,
   "metadata": {},
   "outputs": [
    {
     "name": "stdout",
     "output_type": "stream",
     "text": [
      "Soma peso: 0.2498198945767323 kg\n",
      "Max comprimento: 0.10897706180660223\n"
     ]
    }
   ],
   "source": [
    "peso, compr = valida_peso_comprimento(matriz_nos, matriz_incidencia, 848,num_membros)\n",
    "print(\"Soma peso: {0} kg\\nMax comprimento: {1}\".format(sum(peso), max(compr)))"
   ]
  },
  {
   "cell_type": "code",
   "execution_count": 25,
   "metadata": {},
   "outputs": [],
   "source": [
    "x = list(matriz_nos[0, :])\n",
    "y = list(matriz_nos[1, :])"
   ]
  },
  {
   "cell_type": "code",
   "execution_count": 36,
   "metadata": {
    "scrolled": true
   },
   "outputs": [
    {
     "data": {
      "image/png": "[encoded data removed]",
      "text/plain": [
       "<Figure size 720x432 with 1 Axes>"
      ]
     },
     "metadata": {
      "needs_background": "light"
     },
     "output_type": "display_data"
    }
   ],
   "source": [
    "# Plotando a treliça sem os deslocamentos\n",
    "plt.figure( figsize=(10, 6)) # alterar tamanho\n",
    "for i in range(num_membros):\n",
    "    no_1 = int(matriz_incidencia[i-1, 0])\n",
    "    no_2 = int(matriz_incidencia[i-1, 1])\n",
    "    \n",
    "    x_nos = []\n",
    "    y_nos = []\n",
    "    \n",
    "    x_nos.append(matriz_nos[0, no_1-1])\n",
    "    x_nos.append(matriz_nos[0, no_2-1])\n",
    "    \n",
    "    y_nos.append(matriz_nos[1, no_1-1])\n",
    "    y_nos.append(matriz_nos[1, no_2-1])\n",
    "    \n",
    "    scale_factor = 5\n",
    "\n",
    "    plt.xlim(-.05, .50)\n",
    "    plt.ylim(-.05, .50)\n",
    "    plt.plot(x_nos, y_nos, color=\"red\")\n",
    "    plt.plot(x_nos, y_nos, 'ro', color=\"black\")    "
   ]
  },
  {
   "cell_type": "code",
   "execution_count": null,
   "metadata": {},
   "outputs": [],
   "source": []
  }
 ],
 "metadata": {
  "kernelspec": {
   "display_name": "Python 3",
   "language": "python",
   "name": "python3"
  },
  "language_info": {
   "codemirror_mode": {
    "name": "ipython",
    "version": 3
   },
   "file_extension": ".py",
   "mimetype": "text/x-python",
   "name": "python",
   "nbconvert_exporter": "python",
   "pygments_lexer": "ipython3",
   "version": "3.8.3"
  }
 },
 "nbformat": 4,
 "nbformat_minor": 4
}
