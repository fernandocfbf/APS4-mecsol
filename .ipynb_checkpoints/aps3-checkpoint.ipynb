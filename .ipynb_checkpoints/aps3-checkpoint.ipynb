{
 "cells": [
  {
   "cell_type": "markdown",
   "metadata": {},
   "source": [
    "# APS 3 - Aula 20\n",
    "---"
   ]
  },
  {
   "cell_type": "code",
   "execution_count": 1,
   "metadata": {},
   "outputs": [],
   "source": [
    "import matplotlib.pyplot as plt\n",
    "import numpy as np\n",
    "from funcoesTermosol import *\n",
    "import math\n",
    "from app_utils import *"
   ]
  },
  {
   "cell_type": "markdown",
   "metadata": {},
   "source": [
    "# Treliça 1"
   ]
  },
  {
   "attachments": {
    "trelica1_nos.png": {
     "image/png": "[encoded data removed]"
    }
   },
   "cell_type": "markdown",
   "metadata": {},
   "source": [
    "![trelica1_nos.png](attachment:trelica1_nos.png)"
   ]
  },
  {
   "cell_type": "code",
   "execution_count": 2,
   "metadata": {},
   "outputs": [],
   "source": [
    "num_nos, matriz_nos, num_membros, matriz_incidencia, num_cargas, v_carregamento, num_rest, v_rest = importa(\"entrada.xlsx\")"
   ]
  },
  {
   "cell_type": "code",
   "execution_count": 3,
   "metadata": {},
   "outputs": [],
   "source": [
    "#calcula matriz de conectividade global\n",
    "conectividade_global = conec_global_T(matriz_incidencia, num_membros, num_nos)\n",
    "conectividade_global;"
   ]
  },
  {
   "cell_type": "code",
   "execution_count": 4,
   "metadata": {},
   "outputs": [],
   "source": [
    "#calcula matriz dos membros\n",
    "matriz_dos_membros = np.dot(matriz_nos, conectividade_global) \n",
    "matriz_dos_membros;"
   ]
  },
  {
   "cell_type": "code",
   "execution_count": 5,
   "metadata": {},
   "outputs": [],
   "source": [
    "calculate_Se(1, matriz_incidencia, matriz_nos, matriz_dos_membros);"
   ]
  },
  {
   "cell_type": "code",
   "execution_count": 6,
   "metadata": {},
   "outputs": [],
   "source": [
    "calculate_K(1, matriz_incidencia, matriz_nos, matriz_dos_membros, num_nos);"
   ]
  },
  {
   "cell_type": "code",
   "execution_count": 7,
   "metadata": {},
   "outputs": [],
   "source": [
    "#caclula matriz de rigidez global\n",
    "KG = matriz_global(num_nos, num_membros, matriz_incidencia, matriz_nos, matriz_dos_membros) "
   ]
  },
  {
   "cell_type": "code",
   "execution_count": 8,
   "metadata": {},
   "outputs": [],
   "source": [
    "KG;"
   ]
  },
  {
   "cell_type": "code",
   "execution_count": 9,
   "metadata": {},
   "outputs": [],
   "source": [
    "#condição de contorno\n",
    "Pg = vetor_global_de_forcas(num_rest, v_rest, v_carregamento)\n",
    "Pg;"
   ]
  },
  {
   "cell_type": "code",
   "execution_count": 10,
   "metadata": {},
   "outputs": [],
   "source": [
    "#exclui linhas e colunas\n",
    "KG_solucao = MR_para_solucao(KG, v_rest)"
   ]
  },
  {
   "cell_type": "code",
   "execution_count": 11,
   "metadata": {
    "scrolled": true
   },
   "outputs": [
    {
     "name": "stderr",
     "output_type": "stream",
     "text": [
      "\r",
      "  0%|                                                                                       | 0/100000 [00:00<?, ?it/s]"
     ]
    },
    {
     "name": "stdout",
     "output_type": "stream",
     "text": [
      "Convergiu na 148º iteracao\n"
     ]
    },
    {
     "name": "stderr",
     "output_type": "stream",
     "text": [
      "\n"
     ]
    }
   ],
   "source": [
    "#calcula os deslocamentos usando a solução de gauss\n",
    "u = solucao_gauss(KG_solucao, Pg, 100000, 1e-4)"
   ]
  },
  {
   "cell_type": "code",
   "execution_count": 12,
   "metadata": {},
   "outputs": [],
   "source": [
    "#adiciona 0 nos deslocamentos nulos\n",
    "u_completo = completa_u(u, v_rest)"
   ]
  },
  {
   "cell_type": "code",
   "execution_count": 13,
   "metadata": {},
   "outputs": [],
   "source": [
    "u_completo;"
   ]
  },
  {
   "cell_type": "code",
   "execution_count": 14,
   "metadata": {},
   "outputs": [],
   "source": [
    "#calcula todas as forças de apoio\n",
    "forcas = calculate_force_complete(KG, u_completo, v_rest)"
   ]
  },
  {
   "cell_type": "code",
   "execution_count": 15,
   "metadata": {},
   "outputs": [
    {
     "name": "stdout",
     "output_type": "stream",
     "text": [
      "R1x: [115.70585935]\n",
      "R1y: [74.84466697]\n",
      "R2x: [-115.70672774]\n",
      "R2y: [74.84866878]\n"
     ]
    }
   ],
   "source": [
    "title_to_print = [\"R1x\", \"R1y\", \"R2x\", \"R2y\"]\n",
    "for i in range(len(title_to_print)):\n",
    "    print(\"{0}: {1}\".format(title_to_print[i], forcas[i]))"
   ]
  },
  {
   "cell_type": "code",
   "execution_count": 16,
   "metadata": {},
   "outputs": [],
   "source": [
    "#área fornecida pela estrutura\n",
    "area = 0.00003"
   ]
  },
  {
   "cell_type": "code",
   "execution_count": 17,
   "metadata": {
    "scrolled": false
   },
   "outputs": [
    {
     "name": "stdout",
     "output_type": "stream",
     "text": [
      "Membro 1: tensao: -210583.33 | deformacao: -5.2645832727096705e-05 | força: -6.32\n",
      "Membro 2: tensao: -210502.0 | deformacao: -5.262550067487654e-05 | força: -6.32\n",
      "Membro 3: tensao: 1195377.07 | deformacao: 0.0002988442685098146 | força: 35.86\n",
      "Membro 4: tensao: -306377.15 | deformacao: -7.659428724920349e-05 | força: -9.19\n",
      "Membro 5: tensao: -306377.15 | deformacao: -7.659428724920349e-05 | força: -9.19\n",
      "Membro 6: tensao: -4418086.23 | deformacao: -0.0011045215577541363 | força: -132.54\n",
      "Membro 7: tensao: -4953796.22 | deformacao: -0.0012384490551692856 | força: -148.61\n",
      "Membro 8: tensao: -4182635.49 | deformacao: -0.0010456588735103388 | força: -125.48\n",
      "Membro 9: tensao: -4936643.9 | deformacao: -0.0012341609749659266 | força: -148.1\n",
      "Membro 10: tensao: -4339464.44 | deformacao: -0.0010848661106018108 | força: -130.18\n",
      "Membro 11: tensao: -1923.54 | deformacao: -4.808851539111901e-07 | força: -0.06\n",
      "Membro 12: tensao: -209524.13 | deformacao: -5.2381031577056507e-05 | força: -6.29\n",
      "Membro 13: tensao: -161090.21 | deformacao: -4.0272552281096774e-05 | força: -4.83\n",
      "Membro 14: tensao: -2028.63 | deformacao: -5.071579069606946e-07 | força: -0.06\n",
      "Membro 15: tensao: 1197909.07 | deformacao: 0.00029947726819146825 | força: 35.94\n",
      "Membro 16: tensao: 1304192.97 | deformacao: 0.0003260482432672991 | força: 39.13\n",
      "Membro 17: tensao: -695889.43 | deformacao: -0.0001739723579577823 | força: -20.88\n",
      "Membro 18: tensao: -695854.3 | deformacao: -0.00017396357561446754 | força: -20.88\n"
     ]
    }
   ],
   "source": [
    "forca_membros=[]\n",
    "tensao_membros=[]\n",
    "deform_membros=[]\n",
    "for i in range(num_membros):\n",
    "    tensao, deformacao, forca = tensao_e_deformacao(i+1, num_membros, u_completo, matriz_incidencia, matriz_nos, area)\n",
    "    forca_membros.append(forca)\n",
    "    tensao_membros.append(tensao)\n",
    "    deform_membros.append(deformacao)\n",
    "    print(\"Membro {0}: tensao: {1} | deformacao: {2} | força: {3}\".format(i+1, round(tensao,2), deformacao, round(forca,2)))"
   ]
  },
  {
   "cell_type": "code",
   "execution_count": 18,
   "metadata": {},
   "outputs": [],
   "source": [
    "#Algum membro ultrapassou a tensão de ruptura em tração ou compressão;\n",
    "for e in tensao_membros:\n",
    "    if abs(e) > 18e6:\n",
    "        print(\"Colapso\")"
   ]
  },
  {
   "cell_type": "code",
   "execution_count": 19,
   "metadata": {},
   "outputs": [],
   "source": [
    "#Algum membro teve deformação maior do que 5%.\n",
    "for i in deform_membros:\n",
    "    if i > 0.05:\n",
    "        print(\"Colapso\")"
   ]
  },
  {
   "cell_type": "code",
   "execution_count": 20,
   "metadata": {},
   "outputs": [],
   "source": [
    "#Algum nó se deslocou mais do que 20mm em X ou em Y.\n",
    "for us in u_completo:\n",
    "    if us > 0.02:\n",
    "         print(\"Colapso\")"
   ]
  },
  {
   "cell_type": "code",
   "execution_count": 21,
   "metadata": {},
   "outputs": [
    {
     "name": "stdout",
     "output_type": "stream",
     "text": [
      "0\n",
      "6\n",
      "10\n",
      "15\n",
      "16\n",
      "17\n",
      "Soma peso: 0.04487296250839704 kg\n",
      "Max comprimento: 0.128062484748657\n"
     ]
    }
   ],
   "source": [
    "peso, compr = valida_peso_comprimento(matriz_nos, matriz_incidencia, 848, 0.00003,num_membros)\n",
    "print(\"Soma peso: {0} kg\\nMax comprimento: {1}\".format(sum(peso), max(compr)))"
   ]
  },
  {
   "cell_type": "code",
   "execution_count": 22,
   "metadata": {},
   "outputs": [],
   "source": [
    "#As entradas devem ser vetores coluna\n",
    "geraSaida('APS3_saida', np.array((forcas)),u,np.array([deform_membros]).T,np.array([forca_membros]).T,np.array([tensao_membros]).T)"
   ]
  },
  {
   "cell_type": "code",
   "execution_count": 23,
   "metadata": {},
   "outputs": [],
   "source": [
    "x = list(matriz_nos[0, :])\n",
    "y = list(matriz_nos[1, :])"
   ]
  },
  {
   "cell_type": "code",
   "execution_count": 24,
   "metadata": {},
   "outputs": [
    {
     "data": {
      "image/png": "[encoded data removed]",
      "text/plain": [
       "<Figure size 432x288 with 1 Axes>"
      ]
     },
     "metadata": {
      "needs_background": "light"
     },
     "output_type": "display_data"
    }
   ],
   "source": [
    "# Plotando a treliça sem os deslocamentos\n",
    "for i in range(num_membros):\n",
    "    no_1 = int(matriz_incidencia[i-1, 0])\n",
    "    no_2 = int(matriz_incidencia[i-1, 1])\n",
    "    \n",
    "    x_nos = []\n",
    "    y_nos = []\n",
    "    \n",
    "    x_nos.append(matriz_nos[0, no_1-1])\n",
    "    x_nos.append(matriz_nos[0, no_2-1])\n",
    "    \n",
    "    y_nos.append(matriz_nos[1, no_1-1])\n",
    "    y_nos.append(matriz_nos[1, no_2-1])\n",
    "    \n",
    "    plt.plot(x_nos, y_nos, color=\"red\")"
   ]
  },
  {
   "cell_type": "markdown",
   "metadata": {},
   "source": [
    "# Treliça 2"
   ]
  },
  {
   "cell_type": "code",
   "execution_count": 25,
   "metadata": {},
   "outputs": [],
   "source": [
    "num_nos, matriz_nos, num_membros, matriz_incidencia, num_cargas, v_carregamento, num_rest, v_rest = importa(\"entrada2.xlsx\")"
   ]
  },
  {
   "cell_type": "code",
   "execution_count": 26,
   "metadata": {},
   "outputs": [],
   "source": [
    "#calcula matriz de conectividade global\n",
    "conectividade_global = conec_global_T(matriz_incidencia, num_membros, num_nos)\n",
    "conectividade_global;"
   ]
  },
  {
   "cell_type": "code",
   "execution_count": 27,
   "metadata": {},
   "outputs": [],
   "source": [
    "#calcula matriz dos membros\n",
    "matriz_dos_membros = np.dot(matriz_nos, conectividade_global) \n",
    "matriz_dos_membros;"
   ]
  },
  {
   "cell_type": "code",
   "execution_count": 28,
   "metadata": {},
   "outputs": [],
   "source": [
    "calculate_Se(1, matriz_incidencia, matriz_nos, matriz_dos_membros);"
   ]
  },
  {
   "cell_type": "code",
   "execution_count": 29,
   "metadata": {},
   "outputs": [],
   "source": [
    "calculate_K(1, matriz_incidencia, matriz_nos, matriz_dos_membros, num_nos);"
   ]
  },
  {
   "cell_type": "code",
   "execution_count": 30,
   "metadata": {},
   "outputs": [],
   "source": [
    "#caclula matriz de rigidez global\n",
    "KG = matriz_global(num_nos, num_membros, matriz_incidencia, matriz_nos, matriz_dos_membros) "
   ]
  },
  {
   "cell_type": "code",
   "execution_count": 31,
   "metadata": {},
   "outputs": [],
   "source": [
    "KG;"
   ]
  },
  {
   "cell_type": "code",
   "execution_count": 32,
   "metadata": {},
   "outputs": [],
   "source": [
    "#condição de contorno\n",
    "Pg = vetor_global_de_forcas(num_rest, v_rest, v_carregamento)\n",
    "Pg;"
   ]
  },
  {
   "cell_type": "code",
   "execution_count": 33,
   "metadata": {},
   "outputs": [],
   "source": [
    "#exclui linhas e colunas\n",
    "KG_solucao = MR_para_solucao(KG, v_rest)"
   ]
  },
  {
   "cell_type": "code",
   "execution_count": 34,
   "metadata": {},
   "outputs": [
    {
     "name": "stderr",
     "output_type": "stream",
     "text": [
      "  0%|▏                                                                          | 200/100000 [00:00<00:50, 1985.48it/s]"
     ]
    },
    {
     "name": "stdout",
     "output_type": "stream",
     "text": [
      "Convergiu na 239º iteracao\n"
     ]
    },
    {
     "name": "stderr",
     "output_type": "stream",
     "text": [
      "\n"
     ]
    }
   ],
   "source": [
    "#calcula os deslocamentos usando a solução de gauss\n",
    "u = solucao_gauss(KG_solucao, Pg, 100000, 1e-4)"
   ]
  },
  {
   "cell_type": "code",
   "execution_count": 35,
   "metadata": {},
   "outputs": [],
   "source": [
    "#adiciona 0 nos deslocamentos nulos\n",
    "u_completo = completa_u(u, v_rest)"
   ]
  },
  {
   "cell_type": "code",
   "execution_count": 36,
   "metadata": {},
   "outputs": [],
   "source": [
    "u_completo;"
   ]
  },
  {
   "cell_type": "code",
   "execution_count": 37,
   "metadata": {},
   "outputs": [],
   "source": [
    "#calcula todas as forças de apoio\n",
    "forcas = calculate_force_complete(KG, u_completo, v_rest)"
   ]
  },
  {
   "cell_type": "code",
   "execution_count": 38,
   "metadata": {},
   "outputs": [
    {
     "name": "stdout",
     "output_type": "stream",
     "text": [
      "R1x: [156.93881791]\n",
      "R1y: [74.69299907]\n",
      "R2x: [-156.93496011]\n",
      "R2y: [74.69859148]\n"
     ]
    }
   ],
   "source": [
    "title_to_print = [\"R1x\", \"R1y\", \"R2x\", \"R2y\"]\n",
    "for i in range(len(title_to_print)):\n",
    "    print(\"{0}: {1}\".format(title_to_print[i], forcas[i]))"
   ]
  },
  {
   "cell_type": "code",
   "execution_count": 39,
   "metadata": {},
   "outputs": [],
   "source": [
    "#área fornecida pela estrutura\n",
    "area = 0.00003"
   ]
  },
  {
   "cell_type": "code",
   "execution_count": 40,
   "metadata": {},
   "outputs": [
    {
     "name": "stdout",
     "output_type": "stream",
     "text": [
      "Membro 1: tensao: -313875.42 | deformacao: -7.846885481034522e-05 | força: -9.42\n",
      "Membro 2: tensao: -313639.05 | deformacao: -7.840976236132456e-05 | força: -9.41\n",
      "Membro 3: tensao: 1749524.93 | deformacao: 0.00043738123325413116 | força: 52.49\n",
      "Membro 4: tensao: -442794.09 | deformacao: -0.00011069852201054619 | força: -13.28\n",
      "Membro 5: tensao: -442794.09 | deformacao: -0.00011069852201054619 | força: -13.28\n",
      "Membro 6: tensao: -5511800.32 | deformacao: -0.0013779500788037885 | força: -165.35\n",
      "Membro 7: tensao: -6482277.06 | deformacao: -0.0016205692661272087 | força: -194.47\n",
      "Membro 8: tensao: -5479902.84 | deformacao: -0.0013699757088317548 | força: -164.4\n",
      "Membro 9: tensao: -6469387.66 | deformacao: -0.001617346914977813 | força: -194.08\n",
      "Membro 10: tensao: -5397070.08 | deformacao: -0.001349267519037054 | força: -161.91\n",
      "Membro 11: tensao: -4208.46 | deformacao: -1.0521153693055926e-06 | força: -0.13\n",
      "Membro 12: tensao: -61384.71 | deformacao: -1.5346177650037267e-05 | força: -1.84\n",
      "Membro 13: tensao: -13092.99 | deformacao: -3.2732485203907864e-06 | força: -0.39\n",
      "Membro 14: tensao: -4447.82 | deformacao: -1.1119542868047104e-06 | força: -0.13\n",
      "Membro 15: tensao: 1488294.19 | deformacao: 0.00037207354760308863 | força: 44.65\n",
      "Membro 16: tensao: 1625266.18 | deformacao: 0.0004063165439923243 | força: 48.76\n",
      "Membro 17: tensao: -1022385.16 | deformacao: -0.0002555962890470879 | força: -30.67\n",
      "Membro 18: tensao: -1022264.43 | deformacao: -0.0002555661075010801 | força: -30.67\n"
     ]
    }
   ],
   "source": [
    "forca_membros=[]\n",
    "tensao_membros=[]\n",
    "deform_membros=[]\n",
    "for i in range(num_membros):\n",
    "    tensao, deformacao, forca = tensao_e_deformacao(i+1, num_membros, u_completo, matriz_incidencia, matriz_nos, area)\n",
    "    forca_membros.append(forca)\n",
    "    tensao_membros.append(tensao)\n",
    "    deform_membros.append(deformacao)\n",
    "    print(\"Membro {0}: tensao: {1} | deformacao: {2} | força: {3}\".format(i+1, round(tensao,2), deformacao, round(forca,2)))"
   ]
  },
  {
   "cell_type": "code",
   "execution_count": 41,
   "metadata": {},
   "outputs": [],
   "source": [
    "#Algum membro ultrapassou a tensão de ruptura em tração ou compressão;\n",
    "for e in tensao_membros:\n",
    "    if abs(e) > 18e6:\n",
    "        print(\"Colapso\")"
   ]
  },
  {
   "cell_type": "code",
   "execution_count": 42,
   "metadata": {},
   "outputs": [],
   "source": [
    "#Algum membro teve deformação maior do que 5%.\n",
    "for i in deform_membros:\n",
    "    if i > 0.05:\n",
    "        print(\"Colapso\")"
   ]
  },
  {
   "cell_type": "code",
   "execution_count": 43,
   "metadata": {},
   "outputs": [],
   "source": [
    "#Algum nó se deslocou mais do que 20mm em X ou em Y.\n",
    "for us in u_completo:\n",
    "    if us > 0.02:\n",
    "         print(\"Colapso\")"
   ]
  },
  {
   "cell_type": "code",
   "execution_count": 44,
   "metadata": {},
   "outputs": [
    {
     "name": "stdout",
     "output_type": "stream",
     "text": [
      "Soma peso: 0.040677961807283614 kg\n",
      "Max comprimento: 0.10897706180660223\n"
     ]
    }
   ],
   "source": [
    "peso, compr = valida_peso_comprimento(matriz_nos, matriz_incidencia, 848, 0.00003,num_membros)\n",
    "print(\"Soma peso: {0} kg\\nMax comprimento: {1}\".format(sum(peso), max(compr)))"
   ]
  },
  {
   "cell_type": "code",
   "execution_count": 45,
   "metadata": {},
   "outputs": [],
   "source": [
    "x = list(matriz_nos[0, :])\n",
    "y = list(matriz_nos[1, :])"
   ]
  },
  {
   "cell_type": "code",
   "execution_count": 46,
   "metadata": {
    "scrolled": true
   },
   "outputs": [
    {
     "data": {
      "image/png": "[encoded data removed]",
      "text/plain": [
       "<Figure size 432x288 with 1 Axes>"
      ]
     },
     "metadata": {
      "needs_background": "light"
     },
     "output_type": "display_data"
    }
   ],
   "source": [
    "# Plotando a treliça sem os deslocamentos\n",
    "for i in range(num_membros):\n",
    "    no_1 = int(matriz_incidencia[i-1, 0])\n",
    "    no_2 = int(matriz_incidencia[i-1, 1])\n",
    "    \n",
    "    x_nos = []\n",
    "    y_nos = []\n",
    "    \n",
    "    x_nos.append(matriz_nos[0, no_1-1])\n",
    "    x_nos.append(matriz_nos[0, no_2-1])\n",
    "    \n",
    "    y_nos.append(matriz_nos[1, no_1-1])\n",
    "    y_nos.append(matriz_nos[1, no_2-1])\n",
    "    \n",
    "    plt.plot(x_nos, y_nos, color=\"red\")"
   ]
  },
  {
   "cell_type": "markdown",
   "metadata": {},
   "source": [
    "# Treliça 3 - max: 600"
   ]
  },
  {
   "cell_type": "code",
   "execution_count": 102,
   "metadata": {},
   "outputs": [],
   "source": [
    "num_nos, matriz_nos, num_membros, matriz_incidencia, num_cargas, v_carregamento, num_rest, v_rest = importa(\"entrada3.xlsx\")"
   ]
  },
  {
   "cell_type": "code",
   "execution_count": 274,
   "metadata": {},
   "outputs": [],
   "source": [
    "v_carregamento[13] = -625\n",
    "v_carregamento[15] = -625"
   ]
  },
  {
   "cell_type": "code",
   "execution_count": 275,
   "metadata": {},
   "outputs": [],
   "source": [
    "#calcula matriz de conectividade global\n",
    "conectividade_global = conec_global_T(matriz_incidencia, num_membros, num_nos)\n",
    "conectividade_global;"
   ]
  },
  {
   "cell_type": "code",
   "execution_count": 276,
   "metadata": {},
   "outputs": [],
   "source": [
    "#calcula matriz dos membros\n",
    "matriz_dos_membros = np.dot(matriz_nos, conectividade_global) \n",
    "matriz_dos_membros;"
   ]
  },
  {
   "cell_type": "code",
   "execution_count": 277,
   "metadata": {},
   "outputs": [],
   "source": [
    "calculate_Se(1, matriz_incidencia, matriz_nos, matriz_dos_membros);"
   ]
  },
  {
   "cell_type": "code",
   "execution_count": 278,
   "metadata": {},
   "outputs": [],
   "source": [
    "calculate_K(1, matriz_incidencia, matriz_nos, matriz_dos_membros, num_nos);"
   ]
  },
  {
   "cell_type": "code",
   "execution_count": 279,
   "metadata": {},
   "outputs": [],
   "source": [
    "#caclula matriz de rigidez global\n",
    "KG = matriz_global(num_nos, num_membros, matriz_incidencia, matriz_nos, matriz_dos_membros) "
   ]
  },
  {
   "cell_type": "code",
   "execution_count": 280,
   "metadata": {},
   "outputs": [],
   "source": [
    "KG;"
   ]
  },
  {
   "cell_type": "code",
   "execution_count": 281,
   "metadata": {},
   "outputs": [],
   "source": [
    "#condição de contorno\n",
    "Pg = vetor_global_de_forcas(num_rest, v_rest, v_carregamento)\n",
    "Pg;"
   ]
  },
  {
   "cell_type": "code",
   "execution_count": 282,
   "metadata": {},
   "outputs": [],
   "source": [
    "#exclui linhas e colunas\n",
    "KG_solucao = MR_para_solucao(KG, v_rest)"
   ]
  },
  {
   "cell_type": "code",
   "execution_count": 283,
   "metadata": {},
   "outputs": [
    {
     "name": "stderr",
     "output_type": "stream",
     "text": [
      "\r",
      "  0%|                                                                                       | 0/100000 [00:00<?, ?it/s]"
     ]
    },
    {
     "name": "stdout",
     "output_type": "stream",
     "text": [
      "Convergiu na 239º iteracao\n"
     ]
    },
    {
     "name": "stderr",
     "output_type": "stream",
     "text": [
      "\n"
     ]
    }
   ],
   "source": [
    "#calcula os deslocamentos usando a solução de gauss\n",
    "u = solucao_gauss(KG_solucao, Pg, 100000, 1e-4)"
   ]
  },
  {
   "cell_type": "code",
   "execution_count": 284,
   "metadata": {},
   "outputs": [],
   "source": [
    "#adiciona 0 nos deslocamentos nulos\n",
    "u_completo = completa_u(u, v_rest)"
   ]
  },
  {
   "cell_type": "code",
   "execution_count": 285,
   "metadata": {},
   "outputs": [],
   "source": [
    "u_completo;"
   ]
  },
  {
   "cell_type": "code",
   "execution_count": 286,
   "metadata": {},
   "outputs": [],
   "source": [
    "#calcula todas as forças de apoio\n",
    "forcas = calculate_force_complete(KG, u_completo, v_rest)"
   ]
  },
  {
   "cell_type": "code",
   "execution_count": 287,
   "metadata": {},
   "outputs": [
    {
     "name": "stdout",
     "output_type": "stream",
     "text": [
      "R1x: [1307.82348262]\n",
      "R1y: [622.44165892]\n",
      "R2x: [-1307.79133426]\n",
      "R2y: [622.48826237]\n"
     ]
    }
   ],
   "source": [
    "title_to_print = [\"R1x\", \"R1y\", \"R2x\", \"R2y\"]\n",
    "for i in range(len(title_to_print)):\n",
    "    print(\"{0}: {1}\".format(title_to_print[i], forcas[i]))"
   ]
  },
  {
   "cell_type": "code",
   "execution_count": 288,
   "metadata": {},
   "outputs": [],
   "source": [
    "#área fornecida pela estrutura\n",
    "area = 0.00009"
   ]
  },
  {
   "cell_type": "code",
   "execution_count": 289,
   "metadata": {
    "scrolled": true
   },
   "outputs": [
    {
     "name": "stdout",
     "output_type": "stream",
     "text": [
      "Membro 1: tensao: -871876.16 | deformacao: -0.00021796904113985334 | força: -78.47\n",
      "Membro 2: tensao: -871219.58 | deformacao: -0.00021780489544812932 | força: -78.41\n",
      "Membro 3: tensao: 4859791.48 | deformacao: 0.001214947870150363 | força: 437.38\n",
      "Membro 4: tensao: -1229983.58 | deformacao: -0.00030749589447373333 | força: -110.7\n",
      "Membro 5: tensao: -1229983.58 | deformacao: -0.0003074958944737333 | força: -110.7\n",
      "Membro 6: tensao: -15310556.43 | deformacao: -0.0038276391077882873 | força: -1377.95\n",
      "Membro 7: tensao: -18006325.18 | deformacao: -0.004501581294797789 | força: -1620.57\n",
      "Membro 8: tensao: -15221952.32 | deformacao: -0.0038054880800882014 | força: -1369.98\n",
      "Membro 9: tensao: -17970521.28 | deformacao: -0.004492630319382814 | força: -1617.35\n",
      "Membro 10: tensao: -14991861.32 | deformacao: -0.003747965330658485 | força: -1349.27\n",
      "Membro 11: tensao: -11690.17 | deformacao: -2.922542692514533e-06 | força: -1.05\n",
      "Membro 12: tensao: -170513.09 | deformacao: -4.262827125010466e-05 | força: -15.35\n",
      "Membro 13: tensao: -36369.43 | deformacao: -9.09235700108617e-06 | força: -3.27\n",
      "Membro 14: tensao: -12355.05 | deformacao: -3.088761907781358e-06 | força: -1.11\n",
      "Membro 15: tensao: 4134150.53 | deformacao: 0.0010335376322308017 | força: 372.07\n",
      "Membro 16: tensao: 4514628.27 | deformacao: 0.0011286570666453467 | força: 406.32\n",
      "Membro 17: tensao: -2839958.77 | deformacao: -0.0007099896917974758 | força: -255.6\n",
      "Membro 18: tensao: -2839623.42 | deformacao: -0.0007099058541696589 | força: -255.57\n"
     ]
    }
   ],
   "source": [
    "forca_membros=[]\n",
    "tensao_membros=[]\n",
    "deform_membros=[]\n",
    "for i in range(num_membros):\n",
    "    tensao, deformacao, forca = tensao_e_deformacao(i+1, num_membros, u_completo, matriz_incidencia, matriz_nos, area)\n",
    "    forca_membros.append(forca)\n",
    "    tensao_membros.append(tensao)\n",
    "    deform_membros.append(deformacao)\n",
    "    print(\"Membro {0}: tensao: {1} | deformacao: {2} | força: {3}\".format(i+1, round(tensao,2), deformacao, round(forca,2)))"
   ]
  },
  {
   "cell_type": "code",
   "execution_count": 290,
   "metadata": {},
   "outputs": [
    {
     "data": {
      "text/plain": [
       "-18006325.179191153"
      ]
     },
     "execution_count": 290,
     "metadata": {},
     "output_type": "execute_result"
    }
   ],
   "source": [
    "min(tensao_membros)"
   ]
  },
  {
   "cell_type": "code",
   "execution_count": 291,
   "metadata": {},
   "outputs": [
    {
     "data": {
      "text/plain": [
       "4859791.480601452"
      ]
     },
     "execution_count": 291,
     "metadata": {},
     "output_type": "execute_result"
    }
   ],
   "source": [
    "max(tensao_membros)"
   ]
  },
  {
   "cell_type": "code",
   "execution_count": 292,
   "metadata": {},
   "outputs": [
    {
     "name": "stdout",
     "output_type": "stream",
     "text": [
      "Colapso\n"
     ]
    }
   ],
   "source": [
    "#Algum membro ultrapassou a tensão de ruptura em tração ou compressão;\n",
    "min(tensao_membros)\n",
    "for e in tensao_membros:\n",
    "    if abs(e) > 18*(10**6):\n",
    "        print(\"Colapso\")"
   ]
  },
  {
   "cell_type": "code",
   "execution_count": 293,
   "metadata": {},
   "outputs": [],
   "source": [
    "#Algum membro teve deformação maior do que 5%.\n",
    "for i in deform_membros:\n",
    "    if i > 0.05:\n",
    "        print(\"Colapso\")"
   ]
  },
  {
   "cell_type": "code",
   "execution_count": 294,
   "metadata": {},
   "outputs": [],
   "source": [
    "#Algum nó se deslocou mais do que 20mm em X ou em Y.\n",
    "for us in u_completo:\n",
    "    if us > 0.02:\n",
    "         print(\"Colapso\")"
   ]
  },
  {
   "cell_type": "code",
   "execution_count": 295,
   "metadata": {},
   "outputs": [
    {
     "name": "stdout",
     "output_type": "stream",
     "text": [
      "Soma peso: 0.12203388542185084 kg\n",
      "Max comprimento: 0.10897706180660223\n"
     ]
    }
   ],
   "source": [
    "peso, compr = valida_peso_comprimento(matriz_nos, matriz_incidencia, 848, area,num_membros)\n",
    "print(\"Soma peso: {0} kg\\nMax comprimento: {1}\".format(sum(peso), max(compr)))"
   ]
  },
  {
   "cell_type": "code",
   "execution_count": 197,
   "metadata": {},
   "outputs": [],
   "source": [
    "x = list(matriz_nos[0, :])\n",
    "y = list(matriz_nos[1, :])"
   ]
  },
  {
   "cell_type": "code",
   "execution_count": 123,
   "metadata": {
    "scrolled": true
   },
   "outputs": [
    {
     "data": {
      "image/png": "[encoded data removed]",
      "text/plain": [
       "<Figure size 432x288 with 1 Axes>"
      ]
     },
     "metadata": {
      "needs_background": "light"
     },
     "output_type": "display_data"
    }
   ],
   "source": [
    "# Plotando a treliça sem os deslocamentos\n",
    "for i in range(num_membros):\n",
    "    no_1 = int(matriz_incidencia[i-1, 0])\n",
    "    no_2 = int(matriz_incidencia[i-1, 1])\n",
    "    \n",
    "    x_nos = []\n",
    "    y_nos = []\n",
    "    \n",
    "    x_nos.append(matriz_nos[0, no_1-1])\n",
    "    x_nos.append(matriz_nos[0, no_2-1])\n",
    "    \n",
    "    y_nos.append(matriz_nos[1, no_1-1])\n",
    "    y_nos.append(matriz_nos[1, no_2-1])\n",
    "    \n",
    "    plt.plot(x_nos, y_nos, color=\"red\")"
   ]
  },
  {
   "cell_type": "markdown",
   "metadata": {},
   "source": [
    "## Incremento 1"
   ]
  },
  {
   "cell_type": "code",
   "execution_count": null,
   "metadata": {},
   "outputs": [],
   "source": []
  }
 ],
 "metadata": {
  "kernelspec": {
   "display_name": "Python 3",
   "language": "python",
   "name": "python3"
  },
  "language_info": {
   "codemirror_mode": {
    "name": "ipython",
    "version": 3
   },
   "file_extension": ".py",
   "mimetype": "text/x-python",
   "name": "python",
   "nbconvert_exporter": "python",
   "pygments_lexer": "ipython3",
   "version": "3.7.3"
  }
 },
 "nbformat": 4,
 "nbformat_minor": 4
}
