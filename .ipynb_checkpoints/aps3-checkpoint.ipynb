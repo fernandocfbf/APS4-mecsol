{
 "cells": [
  {
   "cell_type": "markdown",
   "metadata": {},
   "source": [
    "# APS 3 - Aula 20\n",
    "---"
   ]
  },
  {
   "cell_type": "code",
   "execution_count": 1,
   "metadata": {},
   "outputs": [],
   "source": [
    "import matplotlib.pyplot as plt\n",
    "import numpy as np\n",
    "from funcoesTermosol import *\n",
    "import math\n",
    "from app_utils import *"
   ]
  },
  {
   "cell_type": "markdown",
   "metadata": {},
   "source": [
    "# Treliça 1"
   ]
  },
  {
   "attachments": {
    "trelica1_nos.png": {
     "image/png": "[encoded data removed]"
    }
   },
   "cell_type": "markdown",
   "metadata": {},
   "source": [
    "![trelica1_nos.png](attachment:trelica1_nos.png)"
   ]
  },
  {
   "cell_type": "code",
   "execution_count": 2,
   "metadata": {},
   "outputs": [],
   "source": [
    "num_nos, matriz_nos, num_membros, matriz_incidencia, num_cargas, v_carregamento, num_rest, v_rest = importa(\"entrada.xlsx\")"
   ]
  },
  {
   "cell_type": "code",
   "execution_count": 3,
   "metadata": {},
   "outputs": [],
   "source": [
    "#calcula matriz de conectividade global\n",
    "conectividade_global = conec_global_T(matriz_incidencia, num_membros, num_nos)\n",
    "conectividade_global;"
   ]
  },
  {
   "cell_type": "code",
   "execution_count": 4,
   "metadata": {},
   "outputs": [],
   "source": [
    "#calcula matriz dos membros\n",
    "matriz_dos_membros = np.dot(matriz_nos, conectividade_global) \n",
    "matriz_dos_membros;"
   ]
  },
  {
   "cell_type": "code",
   "execution_count": 5,
   "metadata": {},
   "outputs": [],
   "source": [
    "calculate_Se(1, matriz_incidencia, matriz_nos, matriz_dos_membros);"
   ]
  },
  {
   "cell_type": "code",
   "execution_count": 6,
   "metadata": {},
   "outputs": [],
   "source": [
    "calculate_K(1, matriz_incidencia, matriz_nos, matriz_dos_membros, num_nos);"
   ]
  },
  {
   "cell_type": "code",
   "execution_count": 7,
   "metadata": {},
   "outputs": [],
   "source": [
    "#caclula matriz de rigidez global\n",
    "KG = matriz_global(num_nos, num_membros, matriz_incidencia, matriz_nos, matriz_dos_membros) "
   ]
  },
  {
   "cell_type": "code",
   "execution_count": 8,
   "metadata": {},
   "outputs": [],
   "source": [
    "KG;"
   ]
  },
  {
   "cell_type": "code",
   "execution_count": 9,
   "metadata": {},
   "outputs": [],
   "source": [
    "#condição de contorno\n",
    "Pg = vetor_global_de_forcas(num_rest, v_rest, v_carregamento)\n",
    "Pg;"
   ]
  },
  {
   "cell_type": "code",
   "execution_count": 10,
   "metadata": {},
   "outputs": [],
   "source": [
    "#exclui linhas e colunas\n",
    "KG_solucao = MR_para_solucao(KG, v_rest)"
   ]
  },
  {
   "cell_type": "code",
   "execution_count": 11,
   "metadata": {
    "scrolled": true
   },
   "outputs": [
    {
     "name": "stderr",
     "output_type": "stream",
     "text": [
      "  0%|                                                                           | 148/100000 [00:00<00:39, 2511.83it/s]"
     ]
    },
    {
     "name": "stdout",
     "output_type": "stream",
     "text": [
      "Convergiu na 148º iteracao\n"
     ]
    },
    {
     "name": "stderr",
     "output_type": "stream",
     "text": [
      "\n"
     ]
    }
   ],
   "source": [
    "#calcula os deslocamentos usando a solução de gauss\n",
    "u = solucao_gauss(KG_solucao, Pg, 100000, 1e-4)"
   ]
  },
  {
   "cell_type": "code",
   "execution_count": 12,
   "metadata": {},
   "outputs": [],
   "source": [
    "#adiciona 0 nos deslocamentos nulos\n",
    "u_completo = completa_u(u, v_rest)"
   ]
  },
  {
   "cell_type": "code",
   "execution_count": 13,
   "metadata": {},
   "outputs": [],
   "source": [
    "u_completo;"
   ]
  },
  {
   "cell_type": "code",
   "execution_count": 14,
   "metadata": {},
   "outputs": [],
   "source": [
    "#calcula todas as forças de apoio\n",
    "forcas = calculate_force_complete(KG, u_completo, v_rest)"
   ]
  },
  {
   "cell_type": "code",
   "execution_count": 15,
   "metadata": {},
   "outputs": [
    {
     "name": "stdout",
     "output_type": "stream",
     "text": [
      "R1x: [115.70585935]\n",
      "R1y: [74.84466697]\n",
      "R2x: [-115.70672774]\n",
      "R2y: [74.84866878]\n"
     ]
    }
   ],
   "source": [
    "title_to_print = [\"R1x\", \"R1y\", \"R2x\", \"R2y\"]\n",
    "for i in range(len(title_to_print)):\n",
    "    print(\"{0}: {1}\".format(title_to_print[i], forcas[i]))"
   ]
  },
  {
   "cell_type": "code",
   "execution_count": 16,
   "metadata": {},
   "outputs": [],
   "source": [
    "#área fornecida pela estrutura\n",
    "area = 0.00003"
   ]
  },
  {
   "cell_type": "code",
   "execution_count": 17,
   "metadata": {
    "scrolled": false
   },
   "outputs": [
    {
     "name": "stdout",
     "output_type": "stream",
     "text": [
      "Membro 1: tensao: -210583.33 | deformacao: -5.2645832727096705e-05 | força: -6.32\n",
      "Membro 2: tensao: -210502.0 | deformacao: -5.262550067487654e-05 | força: -6.32\n",
      "Membro 3: tensao: 1195377.07 | deformacao: 0.0002988442685098146 | força: 35.86\n",
      "Membro 4: tensao: -306377.15 | deformacao: -7.659428724920349e-05 | força: -9.19\n",
      "Membro 5: tensao: -306377.15 | deformacao: -7.659428724920349e-05 | força: -9.19\n",
      "Membro 6: tensao: -4418086.23 | deformacao: -0.0011045215577541363 | força: -132.54\n",
      "Membro 7: tensao: -4953796.22 | deformacao: -0.0012384490551692856 | força: -148.61\n",
      "Membro 8: tensao: -4182635.49 | deformacao: -0.0010456588735103388 | força: -125.48\n",
      "Membro 9: tensao: -4936643.9 | deformacao: -0.0012341609749659266 | força: -148.1\n",
      "Membro 10: tensao: -4339464.44 | deformacao: -0.0010848661106018108 | força: -130.18\n",
      "Membro 11: tensao: -1923.54 | deformacao: -4.808851539111901e-07 | força: -0.06\n",
      "Membro 12: tensao: -209524.13 | deformacao: -5.2381031577056507e-05 | força: -6.29\n",
      "Membro 13: tensao: -161090.21 | deformacao: -4.0272552281096774e-05 | força: -4.83\n",
      "Membro 14: tensao: -2028.63 | deformacao: -5.071579069606946e-07 | força: -0.06\n",
      "Membro 15: tensao: 1197909.07 | deformacao: 0.00029947726819146825 | força: 35.94\n",
      "Membro 16: tensao: 1304192.97 | deformacao: 0.0003260482432672991 | força: 39.13\n",
      "Membro 17: tensao: -695889.43 | deformacao: -0.0001739723579577823 | força: -20.88\n",
      "Membro 18: tensao: -695854.3 | deformacao: -0.0001739635756144671 | força: -20.88\n"
     ]
    }
   ],
   "source": [
    "forca_membros=[]\n",
    "tensao_membros=[]\n",
    "deform_membros=[]\n",
    "for i in range(num_membros):\n",
    "    tensao, deformacao, forca = tensao_e_deformacao(i+1, num_membros, u_completo, matriz_incidencia, matriz_nos, area)\n",
    "    forca_membros.append(forca)\n",
    "    tensao_membros.append(tensao)\n",
    "    deform_membros.append(deformacao)\n",
    "    print(\"Membro {0}: tensao: {1} | deformacao: {2} | força: {3}\".format(i+1, round(tensao,2), deformacao, round(forca,2)))"
   ]
  },
  {
   "cell_type": "code",
   "execution_count": 18,
   "metadata": {},
   "outputs": [],
   "source": [
    "#Algum membro ultrapassou a tensão de ruptura em tração ou compressão;\n",
    "for e in tensao_membros:\n",
    "    if abs(e) > 18e6:\n",
    "        print(\"Colapso\")"
   ]
  },
  {
   "cell_type": "code",
   "execution_count": 19,
   "metadata": {},
   "outputs": [],
   "source": [
    "#Algum membro teve deformação maior do que 5%.\n",
    "for i in deform_membros:\n",
    "    if i > 0.05:\n",
    "        print(\"Colapso\")"
   ]
  },
  {
   "cell_type": "code",
   "execution_count": 20,
   "metadata": {},
   "outputs": [],
   "source": [
    "#Algum nó se deslocou mais do que 20mm em X ou em Y.\n",
    "for us in u_completo:\n",
    "    if us > 0.02:\n",
    "         print(\"Colapso\")"
   ]
  },
  {
   "cell_type": "code",
   "execution_count": 21,
   "metadata": {},
   "outputs": [
    {
     "name": "stdout",
     "output_type": "stream",
     "text": [
      "0\n",
      "6\n",
      "10\n",
      "15\n",
      "16\n",
      "17\n",
      "Soma peso: 0.04487296250839704 kg\n",
      "Max comprimento: 0.128062484748657\n"
     ]
    }
   ],
   "source": [
    "peso, compr = valida_peso_comprimento(matriz_nos, matriz_incidencia, 848, 0.00003,num_membros)\n",
    "print(\"Soma peso: {0} kg\\nMax comprimento: {1}\".format(sum(peso), max(compr)))"
   ]
  },
  {
   "cell_type": "code",
   "execution_count": 22,
   "metadata": {},
   "outputs": [],
   "source": [
    "#As entradas devem ser vetores coluna\n",
    "geraSaida('APS3_saida', np.array((forcas)),u,np.array([deform_membros]).T,np.array([forca_membros]).T,np.array([tensao_membros]).T)"
   ]
  },
  {
   "cell_type": "code",
   "execution_count": 23,
   "metadata": {},
   "outputs": [],
   "source": [
    "x = list(matriz_nos[0, :])\n",
    "y = list(matriz_nos[1, :])"
   ]
  },
  {
   "cell_type": "code",
   "execution_count": 24,
   "metadata": {},
   "outputs": [
    {
     "data": {
      "image/png": "[encoded data removed]",
      "text/plain": [
       "<Figure size 432x288 with 1 Axes>"
      ]
     },
     "metadata": {
      "needs_background": "light"
     },
     "output_type": "display_data"
    }
   ],
   "source": [
    "# Plotando a treliça sem os deslocamentos\n",
    "for i in range(num_membros):\n",
    "    no_1 = int(matriz_incidencia[i-1, 0])\n",
    "    no_2 = int(matriz_incidencia[i-1, 1])\n",
    "    \n",
    "    x_nos = []\n",
    "    y_nos = []\n",
    "    \n",
    "    x_nos.append(matriz_nos[0, no_1-1])\n",
    "    x_nos.append(matriz_nos[0, no_2-1])\n",
    "    \n",
    "    y_nos.append(matriz_nos[1, no_1-1])\n",
    "    y_nos.append(matriz_nos[1, no_2-1])\n",
    "    \n",
    "    plt.plot(x_nos, y_nos, color=\"red\")"
   ]
  },
  {
   "cell_type": "markdown",
   "metadata": {},
   "source": [
    "# Treliça 2"
   ]
  },
  {
   "cell_type": "code",
   "execution_count": 25,
   "metadata": {},
   "outputs": [],
   "source": [
    "num_nos, matriz_nos, num_membros, matriz_incidencia, num_cargas, v_carregamento, num_rest, v_rest = importa(\"entrada2.xlsx\")"
   ]
  },
  {
   "cell_type": "code",
   "execution_count": 26,
   "metadata": {},
   "outputs": [],
   "source": [
    "#calcula matriz de conectividade global\n",
    "conectividade_global = conec_global_T(matriz_incidencia, num_membros, num_nos)\n",
    "conectividade_global;"
   ]
  },
  {
   "cell_type": "code",
   "execution_count": 27,
   "metadata": {},
   "outputs": [],
   "source": [
    "#calcula matriz dos membros\n",
    "matriz_dos_membros = np.dot(matriz_nos, conectividade_global) \n",
    "matriz_dos_membros;"
   ]
  },
  {
   "cell_type": "code",
   "execution_count": 28,
   "metadata": {},
   "outputs": [],
   "source": [
    "calculate_Se(1, matriz_incidencia, matriz_nos, matriz_dos_membros);"
   ]
  },
  {
   "cell_type": "code",
   "execution_count": 29,
   "metadata": {},
   "outputs": [],
   "source": [
    "calculate_K(1, matriz_incidencia, matriz_nos, matriz_dos_membros, num_nos);"
   ]
  },
  {
   "cell_type": "code",
   "execution_count": 30,
   "metadata": {},
   "outputs": [],
   "source": [
    "#caclula matriz de rigidez global\n",
    "KG = matriz_global(num_nos, num_membros, matriz_incidencia, matriz_nos, matriz_dos_membros) "
   ]
  },
  {
   "cell_type": "code",
   "execution_count": 31,
   "metadata": {},
   "outputs": [],
   "source": [
    "KG;"
   ]
  },
  {
   "cell_type": "code",
   "execution_count": 32,
   "metadata": {},
   "outputs": [],
   "source": [
    "#condição de contorno\n",
    "Pg = vetor_global_de_forcas(num_rest, v_rest, v_carregamento)\n",
    "Pg;"
   ]
  },
  {
   "cell_type": "code",
   "execution_count": 33,
   "metadata": {},
   "outputs": [],
   "source": [
    "#exclui linhas e colunas\n",
    "KG_solucao = MR_para_solucao(KG, v_rest)"
   ]
  },
  {
   "cell_type": "code",
   "execution_count": 34,
   "metadata": {},
   "outputs": [
    {
     "name": "stderr",
     "output_type": "stream",
     "text": [
      "  0%|▏                                                                          | 239/100000 [00:00<00:33, 2995.38it/s]"
     ]
    },
    {
     "name": "stdout",
     "output_type": "stream",
     "text": [
      "Convergiu na 239º iteracao\n"
     ]
    },
    {
     "name": "stderr",
     "output_type": "stream",
     "text": [
      "\n"
     ]
    }
   ],
   "source": [
    "#calcula os deslocamentos usando a solução de gauss\n",
    "u = solucao_gauss(KG_solucao, Pg, 100000, 1e-4)"
   ]
  },
  {
   "cell_type": "code",
   "execution_count": 35,
   "metadata": {},
   "outputs": [],
   "source": [
    "#adiciona 0 nos deslocamentos nulos\n",
    "u_completo = completa_u(u, v_rest)"
   ]
  },
  {
   "cell_type": "code",
   "execution_count": 36,
   "metadata": {},
   "outputs": [],
   "source": [
    "u_completo;"
   ]
  },
  {
   "cell_type": "code",
   "execution_count": 37,
   "metadata": {},
   "outputs": [],
   "source": [
    "#calcula todas as forças de apoio\n",
    "forcas = calculate_force_complete(KG, u_completo, v_rest)"
   ]
  },
  {
   "cell_type": "code",
   "execution_count": 38,
   "metadata": {},
   "outputs": [
    {
     "name": "stdout",
     "output_type": "stream",
     "text": [
      "R1x: [156.93881791]\n",
      "R1y: [74.69299907]\n",
      "R2x: [-156.93496011]\n",
      "R2y: [74.69859148]\n"
     ]
    }
   ],
   "source": [
    "title_to_print = [\"R1x\", \"R1y\", \"R2x\", \"R2y\"]\n",
    "for i in range(len(title_to_print)):\n",
    "    print(\"{0}: {1}\".format(title_to_print[i], forcas[i]))"
   ]
  },
  {
   "cell_type": "code",
   "execution_count": 39,
   "metadata": {},
   "outputs": [],
   "source": [
    "#área fornecida pela estrutura\n",
    "area = 0.00003"
   ]
  },
  {
   "cell_type": "code",
   "execution_count": 40,
   "metadata": {},
   "outputs": [
    {
     "name": "stdout",
     "output_type": "stream",
     "text": [
      "Membro 1: tensao: -313875.42 | deformacao: -7.846885481034522e-05 | força: -9.42\n",
      "Membro 2: tensao: -313639.05 | deformacao: -7.840976236132456e-05 | força: -9.41\n",
      "Membro 3: tensao: 1749524.93 | deformacao: 0.00043738123325413116 | força: 52.49\n",
      "Membro 4: tensao: -442794.09 | deformacao: -0.00011069852201054619 | força: -13.28\n",
      "Membro 5: tensao: -442794.09 | deformacao: -0.00011069852201054619 | força: -13.28\n",
      "Membro 6: tensao: -5511800.32 | deformacao: -0.0013779500788037885 | força: -165.35\n",
      "Membro 7: tensao: -6482277.06 | deformacao: -0.0016205692661272087 | força: -194.47\n",
      "Membro 8: tensao: -5479902.84 | deformacao: -0.0013699757088317548 | força: -164.4\n",
      "Membro 9: tensao: -6469387.66 | deformacao: -0.001617346914977813 | força: -194.08\n",
      "Membro 10: tensao: -5397070.08 | deformacao: -0.001349267519037054 | força: -161.91\n",
      "Membro 11: tensao: -4208.46 | deformacao: -1.0521153693055926e-06 | força: -0.13\n",
      "Membro 12: tensao: -61384.71 | deformacao: -1.5346177650037267e-05 | força: -1.84\n",
      "Membro 13: tensao: -13092.99 | deformacao: -3.2732485203907864e-06 | força: -0.39\n",
      "Membro 14: tensao: -4447.82 | deformacao: -1.1119542868047104e-06 | força: -0.13\n",
      "Membro 15: tensao: 1488294.19 | deformacao: 0.00037207354760308863 | força: 44.65\n",
      "Membro 16: tensao: 1625266.18 | deformacao: 0.0004063165439923243 | força: 48.76\n",
      "Membro 17: tensao: -1022385.16 | deformacao: -0.0002555962890470879 | força: -30.67\n",
      "Membro 18: tensao: -1022264.43 | deformacao: -0.0002555661075010801 | força: -30.67\n"
     ]
    }
   ],
   "source": [
    "forca_membros=[]\n",
    "tensao_membros=[]\n",
    "deform_membros=[]\n",
    "for i in range(num_membros):\n",
    "    tensao, deformacao, forca = tensao_e_deformacao(i+1, num_membros, u_completo, matriz_incidencia, matriz_nos, area)\n",
    "    forca_membros.append(forca)\n",
    "    tensao_membros.append(tensao)\n",
    "    deform_membros.append(deformacao)\n",
    "    print(\"Membro {0}: tensao: {1} | deformacao: {2} | força: {3}\".format(i+1, round(tensao,2), deformacao, round(forca,2)))"
   ]
  },
  {
   "cell_type": "code",
   "execution_count": 41,
   "metadata": {},
   "outputs": [],
   "source": [
    "#Algum membro ultrapassou a tensão de ruptura em tração ou compressão;\n",
    "for e in tensao_membros:\n",
    "    if abs(e) > 18e6:\n",
    "        print(\"Colapso\")"
   ]
  },
  {
   "cell_type": "code",
   "execution_count": 42,
   "metadata": {},
   "outputs": [],
   "source": [
    "#Algum membro teve deformação maior do que 5%.\n",
    "for i in deform_membros:\n",
    "    if i > 0.05:\n",
    "        print(\"Colapso\")"
   ]
  },
  {
   "cell_type": "code",
   "execution_count": 43,
   "metadata": {},
   "outputs": [],
   "source": [
    "#Algum nó se deslocou mais do que 20mm em X ou em Y.\n",
    "for us in u_completo:\n",
    "    if us > 0.02:\n",
    "         print(\"Colapso\")"
   ]
  },
  {
   "cell_type": "code",
   "execution_count": 44,
   "metadata": {},
   "outputs": [
    {
     "name": "stdout",
     "output_type": "stream",
     "text": [
      "Soma peso: 0.040677961807283614 kg\n",
      "Max comprimento: 0.10897706180660223\n"
     ]
    }
   ],
   "source": [
    "peso, compr = valida_peso_comprimento(matriz_nos, matriz_incidencia, 848, 0.00003,num_membros)\n",
    "print(\"Soma peso: {0} kg\\nMax comprimento: {1}\".format(sum(peso), max(compr)))"
   ]
  },
  {
   "cell_type": "code",
   "execution_count": 45,
   "metadata": {},
   "outputs": [],
   "source": [
    "x = list(matriz_nos[0, :])\n",
    "y = list(matriz_nos[1, :])"
   ]
  },
  {
   "cell_type": "code",
   "execution_count": 46,
   "metadata": {
    "scrolled": true
   },
   "outputs": [
    {
     "data": {
      "image/png": "[encoded data removed]",
      "text/plain": [
       "<Figure size 432x288 with 1 Axes>"
      ]
     },
     "metadata": {
      "needs_background": "light"
     },
     "output_type": "display_data"
    }
   ],
   "source": [
    "# Plotando a treliça sem os deslocamentos\n",
    "for i in range(num_membros):\n",
    "    no_1 = int(matriz_incidencia[i-1, 0])\n",
    "    no_2 = int(matriz_incidencia[i-1, 1])\n",
    "    \n",
    "    x_nos = []\n",
    "    y_nos = []\n",
    "    \n",
    "    x_nos.append(matriz_nos[0, no_1-1])\n",
    "    x_nos.append(matriz_nos[0, no_2-1])\n",
    "    \n",
    "    y_nos.append(matriz_nos[1, no_1-1])\n",
    "    y_nos.append(matriz_nos[1, no_2-1])\n",
    "    \n",
    "    plt.plot(x_nos, y_nos, color=\"red\")"
   ]
  },
  {
   "cell_type": "markdown",
   "metadata": {},
   "source": [
    "# Treliça 3 - max: 620"
   ]
  },
  {
   "cell_type": "code",
   "execution_count": 47,
   "metadata": {},
   "outputs": [],
   "source": [
    "num_nos, matriz_nos, num_membros, matriz_incidencia, num_cargas, v_carregamento, num_rest, v_rest = importa(\"entrada3.xlsx\")"
   ]
  },
  {
   "cell_type": "code",
   "execution_count": 48,
   "metadata": {},
   "outputs": [],
   "source": [
    "v_carregamento[13] = -620\n",
    "v_carregamento[15] = -620"
   ]
  },
  {
   "cell_type": "code",
   "execution_count": 49,
   "metadata": {},
   "outputs": [],
   "source": [
    "#calcula matriz de conectividade global\n",
    "conectividade_global = conec_global_T(matriz_incidencia, num_membros, num_nos)\n",
    "conectividade_global;"
   ]
  },
  {
   "cell_type": "code",
   "execution_count": 50,
   "metadata": {},
   "outputs": [],
   "source": [
    "#calcula matriz dos membros\n",
    "matriz_dos_membros = np.dot(matriz_nos, conectividade_global) \n",
    "matriz_dos_membros;"
   ]
  },
  {
   "cell_type": "code",
   "execution_count": 51,
   "metadata": {},
   "outputs": [],
   "source": [
    "calculate_Se(1, matriz_incidencia, matriz_nos, matriz_dos_membros);"
   ]
  },
  {
   "cell_type": "code",
   "execution_count": 52,
   "metadata": {},
   "outputs": [],
   "source": [
    "calculate_K(1, matriz_incidencia, matriz_nos, matriz_dos_membros, num_nos);"
   ]
  },
  {
   "cell_type": "code",
   "execution_count": 53,
   "metadata": {},
   "outputs": [],
   "source": [
    "#caclula matriz de rigidez global\n",
    "KG = matriz_global(num_nos, num_membros, matriz_incidencia, matriz_nos, matriz_dos_membros) "
   ]
  },
  {
   "cell_type": "code",
   "execution_count": 54,
   "metadata": {},
   "outputs": [],
   "source": [
    "KG;"
   ]
  },
  {
   "cell_type": "code",
   "execution_count": 55,
   "metadata": {},
   "outputs": [],
   "source": [
    "#condição de contorno\n",
    "Pg = vetor_global_de_forcas(num_rest, v_rest, v_carregamento)\n",
    "Pg;"
   ]
  },
  {
   "cell_type": "code",
   "execution_count": 56,
   "metadata": {},
   "outputs": [],
   "source": [
    "#exclui linhas e colunas\n",
    "KG_solucao = MR_para_solucao(KG, v_rest)"
   ]
  },
  {
   "cell_type": "code",
   "execution_count": 57,
   "metadata": {},
   "outputs": [
    {
     "name": "stderr",
     "output_type": "stream",
     "text": [
      "  0%|▏                                                                          | 239/100000 [00:00<00:37, 2633.39it/s]"
     ]
    },
    {
     "name": "stdout",
     "output_type": "stream",
     "text": [
      "Convergiu na 239º iteracao\n"
     ]
    },
    {
     "name": "stderr",
     "output_type": "stream",
     "text": [
      "\n"
     ]
    }
   ],
   "source": [
    "#calcula os deslocamentos usando a solução de gauss\n",
    "u = solucao_gauss(KG_solucao, Pg, 100000, 1e-4)"
   ]
  },
  {
   "cell_type": "code",
   "execution_count": 58,
   "metadata": {},
   "outputs": [],
   "source": [
    "#adiciona 0 nos deslocamentos nulos\n",
    "u_completo = completa_u(u, v_rest)"
   ]
  },
  {
   "cell_type": "code",
   "execution_count": 59,
   "metadata": {},
   "outputs": [],
   "source": [
    "u_completo;"
   ]
  },
  {
   "cell_type": "code",
   "execution_count": 60,
   "metadata": {},
   "outputs": [],
   "source": [
    "#calcula todas as forças de apoio\n",
    "forcas = calculate_force_complete(KG, u_completo, v_rest)"
   ]
  },
  {
   "cell_type": "code",
   "execution_count": 61,
   "metadata": {},
   "outputs": [
    {
     "name": "stdout",
     "output_type": "stream",
     "text": [
      "R1x: [1297.36089476]\n",
      "R1y: [617.46212565]\n",
      "R2x: [-1297.32900359]\n",
      "R2y: [617.50835627]\n"
     ]
    }
   ],
   "source": [
    "title_to_print = [\"R1x\", \"R1y\", \"R2x\", \"R2y\"]\n",
    "for i in range(len(title_to_print)):\n",
    "    print(\"{0}: {1}\".format(title_to_print[i], forcas[i]))"
   ]
  },
  {
   "cell_type": "code",
   "execution_count": 62,
   "metadata": {},
   "outputs": [],
   "source": [
    "#área fornecida pela estrutura\n",
    "area = 0.00009"
   ]
  },
  {
   "cell_type": "code",
   "execution_count": 63,
   "metadata": {
    "scrolled": true
   },
   "outputs": [
    {
     "name": "stdout",
     "output_type": "stream",
     "text": [
      "Membro 1: tensao: -864901.16 | deformacao: -0.00021622528881073646 | força: -77.84\n",
      "Membro 2: tensao: -864249.83 | deformacao: -0.00021606245628454638 | força: -77.78\n",
      "Membro 3: tensao: 4820913.15 | deformacao: 0.00120522828718916 | força: 433.88\n",
      "Membro 4: tensao: -1220143.71 | deformacao: -0.00030503592731794145 | força: -109.81\n",
      "Membro 5: tensao: -1220143.71 | deformacao: -0.0003050359273179414 | força: -109.81\n",
      "Membro 6: tensao: -15188071.98 | deformacao: -0.003797017994925981 | força: -1366.93\n",
      "Membro 7: tensao: -17862274.58 | deformacao: -0.004465568644439407 | força: -1607.6\n",
      "Membro 8: tensao: -15100176.7 | deformacao: -0.003775044175447493 | força: -1359.02\n",
      "Membro 9: tensao: -17826757.11 | deformacao: -0.004456689276827748 | força: -1604.41\n",
      "Membro 10: tensao: -14871926.43 | deformacao: -0.0037179816080132187 | força: -1338.47\n",
      "Membro 11: tensao: -11596.65 | deformacao: -2.8991623509716033e-06 | força: -1.04\n",
      "Membro 12: tensao: -169148.98 | deformacao: -4.228724508010439e-05 | força: -15.22\n",
      "Membro 13: tensao: -36078.47 | deformacao: -9.019618145079309e-06 | força: -3.25\n",
      "Membro 14: tensao: -12256.21 | deformacao: -3.0640518125203316e-06 | força: -1.1\n",
      "Membro 15: tensao: 4101077.32 | deformacao: 0.001025269331172957 | força: 369.1\n",
      "Membro 16: tensao: 4478511.24 | deformacao: 0.0011196278101121802 | força: 403.07\n",
      "Membro 17: tensao: -2817239.1 | deformacao: -0.0007043097742630931 | força: -253.55\n",
      "Membro 18: tensao: -2816906.43 | deformacao: -0.0007042266073363041 | força: -253.52\n"
     ]
    }
   ],
   "source": [
    "forca_membros=[]\n",
    "tensao_membros=[]\n",
    "deform_membros=[]\n",
    "for i in range(num_membros):\n",
    "    tensao, deformacao, forca = tensao_e_deformacao(i+1, num_membros, u_completo, matriz_incidencia, matriz_nos, area)\n",
    "    forca_membros.append(forca)\n",
    "    tensao_membros.append(tensao)\n",
    "    deform_membros.append(deformacao)\n",
    "    print(\"Membro {0}: tensao: {1} | deformacao: {2} | força: {3}\".format(i+1, round(tensao,2), deformacao, round(forca,2)))"
   ]
  },
  {
   "cell_type": "code",
   "execution_count": 64,
   "metadata": {},
   "outputs": [
    {
     "data": {
      "text/plain": [
       "-17862274.577757627"
      ]
     },
     "execution_count": 64,
     "metadata": {},
     "output_type": "execute_result"
    }
   ],
   "source": [
    "min(tensao_membros)"
   ]
  },
  {
   "cell_type": "code",
   "execution_count": 65,
   "metadata": {},
   "outputs": [
    {
     "data": {
      "text/plain": [
       "4820913.14875664"
      ]
     },
     "execution_count": 65,
     "metadata": {},
     "output_type": "execute_result"
    }
   ],
   "source": [
    "max(tensao_membros)"
   ]
  },
  {
   "cell_type": "code",
   "execution_count": 66,
   "metadata": {},
   "outputs": [],
   "source": [
    "#Algum membro ultrapassou a tensão de ruptura em tração ou compressão;\n",
    "min(tensao_membros)\n",
    "for e in tensao_membros:\n",
    "    if abs(e) > 18*(10**6):\n",
    "        print(\"Colapso\")"
   ]
  },
  {
   "cell_type": "code",
   "execution_count": 67,
   "metadata": {},
   "outputs": [],
   "source": [
    "#Algum membro teve deformação maior do que 5%.\n",
    "for i in deform_membros:\n",
    "    if i > 0.05:\n",
    "        print(\"Colapso\")"
   ]
  },
  {
   "cell_type": "code",
   "execution_count": 68,
   "metadata": {},
   "outputs": [],
   "source": [
    "#Algum nó se deslocou mais do que 20mm em X ou em Y.\n",
    "for us in u_completo:\n",
    "    if abs(us) > 0.02:\n",
    "         print(\"Colapso\")"
   ]
  },
  {
   "cell_type": "code",
   "execution_count": 69,
   "metadata": {},
   "outputs": [
    {
     "name": "stdout",
     "output_type": "stream",
     "text": [
      "Soma peso: 0.12203388542185084 kg\n",
      "Max comprimento: 0.10897706180660223\n"
     ]
    }
   ],
   "source": [
    "peso, compr = valida_peso_comprimento(matriz_nos, matriz_incidencia, 848, area,num_membros)\n",
    "print(\"Soma peso: {0} kg\\nMax comprimento: {1}\".format(sum(peso), max(compr)))"
   ]
  },
  {
   "cell_type": "code",
   "execution_count": 70,
   "metadata": {},
   "outputs": [],
   "source": [
    "x = list(matriz_nos[0, :])\n",
    "y = list(matriz_nos[1, :])"
   ]
  },
  {
   "cell_type": "code",
   "execution_count": 71,
   "metadata": {
    "scrolled": false
   },
   "outputs": [
    {
     "data": {
      "image/png": "[encoded data removed]",
      "text/plain": [
       "<Figure size 432x288 with 1 Axes>"
      ]
     },
     "metadata": {
      "needs_background": "light"
     },
     "output_type": "display_data"
    }
   ],
   "source": [
    "# Plotando a treliça sem os deslocamentos\n",
    "for i in range(num_membros):\n",
    "    no_1 = int(matriz_incidencia[i-1, 0])\n",
    "    no_2 = int(matriz_incidencia[i-1, 1])\n",
    "    \n",
    "    x_nos = []\n",
    "    y_nos = []\n",
    "    \n",
    "    x_nos.append(matriz_nos[0, no_1-1])\n",
    "    x_nos.append(matriz_nos[0, no_2-1])\n",
    "    \n",
    "    y_nos.append(matriz_nos[1, no_1-1])\n",
    "    y_nos.append(matriz_nos[1, no_2-1])\n",
    "    \n",
    "    plt.plot(x_nos, y_nos, color=\"red\")"
   ]
  },
  {
   "cell_type": "markdown",
   "metadata": {},
   "source": [
    "# Treliça 3_1 - MAX: 720"
   ]
  },
  {
   "cell_type": "code",
   "execution_count": 72,
   "metadata": {},
   "outputs": [],
   "source": [
    "num_nos, matriz_nos, num_membros, matriz_incidencia, num_cargas, v_carregamento, num_rest, v_rest = importa(\"entrada3_1.xlsx\")"
   ]
  },
  {
   "cell_type": "code",
   "execution_count": 73,
   "metadata": {},
   "outputs": [],
   "source": [
    "v_carregamento[13] = -720\n",
    "v_carregamento[15] = -720"
   ]
  },
  {
   "cell_type": "code",
   "execution_count": 74,
   "metadata": {},
   "outputs": [],
   "source": [
    "#calcula matriz de conectividade global\n",
    "conectividade_global = conec_global_T(matriz_incidencia, num_membros, num_nos)\n",
    "conectividade_global;"
   ]
  },
  {
   "cell_type": "code",
   "execution_count": 75,
   "metadata": {},
   "outputs": [],
   "source": [
    "#calcula matriz dos membros\n",
    "matriz_dos_membros = np.dot(matriz_nos, conectividade_global) \n",
    "matriz_dos_membros;"
   ]
  },
  {
   "cell_type": "code",
   "execution_count": 76,
   "metadata": {},
   "outputs": [],
   "source": [
    "calculate_Se(1, matriz_incidencia, matriz_nos, matriz_dos_membros);"
   ]
  },
  {
   "cell_type": "code",
   "execution_count": 77,
   "metadata": {},
   "outputs": [],
   "source": [
    "calculate_K(1, matriz_incidencia, matriz_nos, matriz_dos_membros, num_nos);"
   ]
  },
  {
   "cell_type": "code",
   "execution_count": 78,
   "metadata": {},
   "outputs": [],
   "source": [
    "#caclula matriz de rigidez global\n",
    "KG = matriz_global(num_nos, num_membros, matriz_incidencia, matriz_nos, matriz_dos_membros) "
   ]
  },
  {
   "cell_type": "code",
   "execution_count": 79,
   "metadata": {},
   "outputs": [],
   "source": [
    "KG;"
   ]
  },
  {
   "cell_type": "code",
   "execution_count": 80,
   "metadata": {},
   "outputs": [],
   "source": [
    "#condição de contorno\n",
    "Pg = vetor_global_de_forcas(num_rest, v_rest, v_carregamento)\n",
    "Pg;"
   ]
  },
  {
   "cell_type": "code",
   "execution_count": 81,
   "metadata": {},
   "outputs": [],
   "source": [
    "#exclui linhas e colunas\n",
    "KG_solucao = MR_para_solucao(KG, v_rest)"
   ]
  },
  {
   "cell_type": "code",
   "execution_count": 82,
   "metadata": {},
   "outputs": [
    {
     "name": "stderr",
     "output_type": "stream",
     "text": [
      " 10%|███████▎                                                                 | 10024/100000 [00:05<00:52, 1719.78it/s]"
     ]
    },
    {
     "name": "stdout",
     "output_type": "stream",
     "text": [
      "Convergiu na 10024º iteracao\n"
     ]
    },
    {
     "name": "stderr",
     "output_type": "stream",
     "text": [
      "\n"
     ]
    }
   ],
   "source": [
    "#calcula os deslocamentos usando a solução de gauss\n",
    "u = solucao_gauss(KG_solucao, Pg, 100000, 1e-4)"
   ]
  },
  {
   "cell_type": "code",
   "execution_count": 83,
   "metadata": {},
   "outputs": [],
   "source": [
    "#adiciona 0 nos deslocamentos nulos\n",
    "u_completo = completa_u(u, v_rest)"
   ]
  },
  {
   "cell_type": "code",
   "execution_count": 84,
   "metadata": {},
   "outputs": [],
   "source": [
    "u_completo;"
   ]
  },
  {
   "cell_type": "code",
   "execution_count": 85,
   "metadata": {},
   "outputs": [],
   "source": [
    "#calcula todas as forças de apoio\n",
    "forcas = calculate_force_complete(KG, u_completo, v_rest)"
   ]
  },
  {
   "cell_type": "code",
   "execution_count": 86,
   "metadata": {},
   "outputs": [
    {
     "name": "stdout",
     "output_type": "stream",
     "text": [
      "R1x: [1694.67186667]\n",
      "R1y: [719.91734631]\n",
      "R2x: [-1695.91868388]\n",
      "R2y: [720.08100978]\n"
     ]
    }
   ],
   "source": [
    "title_to_print = [\"R1x\", \"R1y\", \"R2x\", \"R2y\"]\n",
    "for i in range(len(title_to_print)):\n",
    "    print(\"{0}: {1}\".format(title_to_print[i], forcas[i]))"
   ]
  },
  {
   "cell_type": "code",
   "execution_count": 87,
   "metadata": {},
   "outputs": [],
   "source": [
    "#área fornecida pela estrutura\n",
    "area = 0.00009"
   ]
  },
  {
   "cell_type": "code",
   "execution_count": 88,
   "metadata": {
    "scrolled": true
   },
   "outputs": [
    {
     "name": "stdout",
     "output_type": "stream",
     "text": [
      "Membro 1: tensao: -3031085.44 | deformacao: -0.0007577713610507922 | força: -272.8\n",
      "Membro 2: tensao: 1844777.63 | deformacao: 0.00046119440628893235 | força: 166.03\n",
      "Membro 3: tensao: 3271870.53 | deformacao: 0.0008179676316007368 | força: 294.47\n",
      "Membro 4: tensao: 1813776.53 | deformacao: 0.00045344413189266894 | força: 163.24\n",
      "Membro 5: tensao: -3457194.57 | deformacao: -0.0008642986422990136 | força: -311.15\n",
      "Membro 6: tensao: -17708222.13 | deformacao: -0.004427055531382609 | força: -1593.74\n",
      "Membro 7: tensao: -15507961.09 | deformacao: -0.003876990272970516 | força: -1395.72\n",
      "Membro 8: tensao: -17890564.78 | deformacao: -0.00447264119388869 | força: -1610.15\n",
      "Membro 9: tensao: -15299335.04 | deformacao: -0.0038248337610597314 | força: -1376.94\n",
      "Membro 10: tensao: -17342262.16 | deformacao: -0.004335565540859632 | força: -1560.8\n",
      "Membro 11: tensao: 4215632.56 | deformacao: 0.0010539081404365995 | força: 379.41\n",
      "Membro 12: tensao: 2293233.76 | deformacao: 0.0005733084393566612 | força: 206.39\n",
      "Membro 13: tensao: 2317798.21 | deformacao: 0.0005794495524982858 | força: 208.6\n",
      "Membro 14: tensao: 4081164.46 | deformacao: 0.001020291115492442 | força: 367.3\n",
      "Membro 15: tensao: -775154.62 | deformacao: -0.000193788654986775 | força: -69.76\n",
      "Membro 16: tensao: -736727.01 | deformacao: -0.000184181752143913 | força: -66.31\n",
      "Membro 17: tensao: -2875279.81 | deformacao: -0.0007188199534257519 | força: -258.78\n",
      "Membro 18: tensao: -2876625.89 | deformacao: -0.0007191564725800767 | força: -258.9\n",
      "Membro 19: tensao: -6518863.64 | deformacao: -0.0016297159088976664 | força: -586.7\n",
      "Membro 20: tensao: -6527818.71 | deformacao: -0.0016319546786709588 | força: -587.5\n",
      "Membro 21: tensao: -6749424.89 | deformacao: -0.0016873562236520917 | força: -607.45\n",
      "Membro 22: tensao: -6747572.17 | deformacao: -0.001686893042356052 | força: -607.28\n"
     ]
    }
   ],
   "source": [
    "forca_membros=[]\n",
    "tensao_membros=[]\n",
    "deform_membros=[]\n",
    "for i in range(num_membros):\n",
    "    tensao, deformacao, forca = tensao_e_deformacao(i+1, num_membros, u_completo, matriz_incidencia, matriz_nos, area)\n",
    "    forca_membros.append(forca)\n",
    "    tensao_membros.append(tensao)\n",
    "    deform_membros.append(deformacao)\n",
    "    print(\"Membro {0}: tensao: {1} | deformacao: {2} | força: {3}\".format(i+1, round(tensao,2), deformacao, round(forca,2)))"
   ]
  },
  {
   "cell_type": "code",
   "execution_count": 89,
   "metadata": {},
   "outputs": [
    {
     "data": {
      "text/plain": [
       "-17890564.77555476"
      ]
     },
     "execution_count": 89,
     "metadata": {},
     "output_type": "execute_result"
    }
   ],
   "source": [
    "min(tensao_membros)"
   ]
  },
  {
   "cell_type": "code",
   "execution_count": 90,
   "metadata": {},
   "outputs": [
    {
     "data": {
      "text/plain": [
       "4215632.561746399"
      ]
     },
     "execution_count": 90,
     "metadata": {},
     "output_type": "execute_result"
    }
   ],
   "source": [
    "max(tensao_membros)"
   ]
  },
  {
   "cell_type": "code",
   "execution_count": 91,
   "metadata": {},
   "outputs": [],
   "source": [
    "#Algum membro ultrapassou a tensão de ruptura em tração ou compressão;\n",
    "min(tensao_membros)\n",
    "for e in tensao_membros:\n",
    "    if abs(e) > 18*(10**6):\n",
    "        print(\"Colapso\")"
   ]
  },
  {
   "cell_type": "code",
   "execution_count": 92,
   "metadata": {},
   "outputs": [],
   "source": [
    "#Algum membro teve deformação maior do que 5%.\n",
    "for i in deform_membros:\n",
    "    if i > 0.05:\n",
    "        print(\"Colapso\")"
   ]
  },
  {
   "cell_type": "code",
   "execution_count": 93,
   "metadata": {},
   "outputs": [],
   "source": [
    "#Algum nó se deslocou mais do que 20mm em X ou em Y.\n",
    "for us in u_completo:\n",
    "    if abs(us) > 0.02:\n",
    "         print(\"Colapso\")"
   ]
  },
  {
   "cell_type": "code",
   "execution_count": 94,
   "metadata": {},
   "outputs": [
    {
     "name": "stdout",
     "output_type": "stream",
     "text": [
      "Soma peso: 0.14011528513011967 kg\n",
      "Max comprimento: 0.10897706180660223\n"
     ]
    }
   ],
   "source": [
    "peso, compr = valida_peso_comprimento(matriz_nos, matriz_incidencia, 848, area,num_membros)\n",
    "print(\"Soma peso: {0} kg\\nMax comprimento: {1}\".format(sum(peso), max(compr)))"
   ]
  },
  {
   "cell_type": "code",
   "execution_count": 95,
   "metadata": {},
   "outputs": [],
   "source": [
    "x = list(matriz_nos[0, :])\n",
    "y = list(matriz_nos[1, :])"
   ]
  },
  {
   "cell_type": "code",
   "execution_count": 96,
   "metadata": {
    "scrolled": false
   },
   "outputs": [
    {
     "data": {
      "image/png": "[encoded data removed]",
      "text/plain": [
       "<Figure size 432x288 with 1 Axes>"
      ]
     },
     "metadata": {
      "needs_background": "light"
     },
     "output_type": "display_data"
    }
   ],
   "source": [
    "# Plotando a treliça sem os deslocamentos\n",
    "for i in range(num_membros):\n",
    "    no_1 = int(matriz_incidencia[i-1, 0])\n",
    "    no_2 = int(matriz_incidencia[i-1, 1])\n",
    "    \n",
    "    x_nos = []\n",
    "    y_nos = []\n",
    "    \n",
    "    x_nos.append(matriz_nos[0, no_1-1])\n",
    "    x_nos.append(matriz_nos[0, no_2-1])\n",
    "    \n",
    "    y_nos.append(matriz_nos[1, no_1-1])\n",
    "    y_nos.append(matriz_nos[1, no_2-1])\n",
    "    \n",
    "    plt.plot(x_nos, y_nos, color=\"red\")"
   ]
  },
  {
   "cell_type": "markdown",
   "metadata": {},
   "source": [
    "# Treliça 3_2 - MAX: 1000"
   ]
  },
  {
   "cell_type": "code",
   "execution_count": 97,
   "metadata": {},
   "outputs": [],
   "source": [
    "num_nos, matriz_nos, num_membros, matriz_incidencia, num_cargas, v_carregamento, num_rest, v_rest = importa(\"LAIS.xlsx\")"
   ]
  },
  {
   "cell_type": "code",
   "execution_count": 98,
   "metadata": {},
   "outputs": [],
   "source": [
    "v_carregamento[13] = -2000\n",
    "v_carregamento[15] = -2000"
   ]
  },
  {
   "cell_type": "code",
   "execution_count": 99,
   "metadata": {},
   "outputs": [],
   "source": [
    "#calcula matriz de conectividade global\n",
    "conectividade_global = conec_global_T(matriz_incidencia, num_membros, num_nos)\n",
    "conectividade_global;"
   ]
  },
  {
   "cell_type": "code",
   "execution_count": 100,
   "metadata": {},
   "outputs": [],
   "source": [
    "#calcula matriz dos membros\n",
    "matriz_dos_membros = np.dot(matriz_nos, conectividade_global) \n",
    "matriz_dos_membros;"
   ]
  },
  {
   "cell_type": "code",
   "execution_count": 101,
   "metadata": {},
   "outputs": [],
   "source": [
    "calculate_Se(1, matriz_incidencia, matriz_nos, matriz_dos_membros);"
   ]
  },
  {
   "cell_type": "code",
   "execution_count": 102,
   "metadata": {},
   "outputs": [],
   "source": [
    "calculate_K(1, matriz_incidencia, matriz_nos, matriz_dos_membros, num_nos);"
   ]
  },
  {
   "cell_type": "code",
   "execution_count": 103,
   "metadata": {},
   "outputs": [],
   "source": [
    "#caclula matriz de rigidez global\n",
    "KG = matriz_global(num_nos, num_membros, matriz_incidencia, matriz_nos, matriz_dos_membros) "
   ]
  },
  {
   "cell_type": "code",
   "execution_count": 104,
   "metadata": {},
   "outputs": [],
   "source": [
    "KG;"
   ]
  },
  {
   "cell_type": "code",
   "execution_count": 105,
   "metadata": {},
   "outputs": [],
   "source": [
    "#condição de contorno\n",
    "Pg = vetor_global_de_forcas(num_rest, v_rest, v_carregamento)\n",
    "Pg;"
   ]
  },
  {
   "cell_type": "code",
   "execution_count": 106,
   "metadata": {},
   "outputs": [],
   "source": [
    "#exclui linhas e colunas\n",
    "KG_solucao = MR_para_solucao(KG, v_rest)"
   ]
  },
  {
   "cell_type": "code",
   "execution_count": 107,
   "metadata": {},
   "outputs": [
    {
     "name": "stderr",
     "output_type": "stream",
     "text": [
      " 28%|████████████████████▊                                                    | 28463/100000 [00:18<00:47, 1516.69it/s]"
     ]
    },
    {
     "name": "stdout",
     "output_type": "stream",
     "text": [
      "Convergiu na 28463º iteracao\n"
     ]
    },
    {
     "name": "stderr",
     "output_type": "stream",
     "text": [
      "\n"
     ]
    }
   ],
   "source": [
    "#calcula os deslocamentos usando a solução de gauss\n",
    "u = solucao_gauss(KG_solucao, Pg, 100000, 1e-4)"
   ]
  },
  {
   "cell_type": "code",
   "execution_count": 108,
   "metadata": {},
   "outputs": [],
   "source": [
    "#adiciona 0 nos deslocamentos nulos\n",
    "u_completo = completa_u(u, v_rest)"
   ]
  },
  {
   "cell_type": "code",
   "execution_count": 109,
   "metadata": {},
   "outputs": [],
   "source": [
    "u_completo;"
   ]
  },
  {
   "cell_type": "code",
   "execution_count": 110,
   "metadata": {},
   "outputs": [],
   "source": [
    "#calcula todas as forças de apoio\n",
    "forcas = calculate_force_complete(KG, u_completo, v_rest)"
   ]
  },
  {
   "cell_type": "code",
   "execution_count": 111,
   "metadata": {},
   "outputs": [
    {
     "name": "stdout",
     "output_type": "stream",
     "text": [
      "R1x: [1133.62006188]\n",
      "R1y: [649.24678158]\n",
      "R2x: [-1114.48585223]\n",
      "R2y: [644.9028056]\n"
     ]
    }
   ],
   "source": [
    "title_to_print = [\"R1x\", \"R1y\", \"R2x\", \"R2y\"]\n",
    "for i in range(len(title_to_print)):\n",
    "    print(\"{0}: {1}\".format(title_to_print[i], forcas[i]))"
   ]
  },
  {
   "cell_type": "code",
   "execution_count": 112,
   "metadata": {},
   "outputs": [],
   "source": [
    "#área fornecida pela estrutura\n",
    "area = 0.00009"
   ]
  },
  {
   "cell_type": "code",
   "execution_count": 113,
   "metadata": {
    "scrolled": true
   },
   "outputs": [
    {
     "name": "stdout",
     "output_type": "stream",
     "text": [
      "Membro 1: tensao: 4955869.21 | deformacao: 0.0012389673030675425 | força: 446.03\n",
      "Membro 2: tensao: -4585975.71 | deformacao: -0.001146493926931522 | força: -412.74\n",
      "Membro 3: tensao: 45474.52 | deformacao: 1.1368629623796492e-05 | força: 4.09\n",
      "Membro 4: tensao: -4599617.85 | deformacao: -0.001149904461603292 | força: -413.97\n",
      "Membro 5: tensao: 4190395.03 | deformacao: 0.0010475987571439871 | força: 377.14\n",
      "Membro 6: tensao: -7186453.87 | deformacao: -0.001796613467731335 | força: -646.78\n",
      "Membro 7: tensao: -7088904.44 | deformacao: -0.0017722261102204942 | força: -638.0\n",
      "Membro 8: tensao: -8140972.79 | deformacao: -0.0020352431965754646 | força: -732.69\n",
      "Membro 9: tensao: -6904483.43 | deformacao: -0.0017261208570106944 | força: -621.4\n",
      "Membro 10: tensao: -6989259.57 | deformacao: -0.0017473148915806117 | força: -629.03\n",
      "Membro 11: tensao: 7533409.87 | deformacao: 0.0018833524683554866 | força: 678.01\n",
      "Membro 12: tensao: -16946.29 | deformacao: -4.2365737388050265e-06 | força: -1.53\n",
      "Membro 13: tensao: -144112.28 | deformacao: -3.60280708171681e-05 | força: -12.97\n",
      "Membro 14: tensao: 6959577.89 | deformacao: 0.0017398944720382961 | força: 626.36\n",
      "Membro 15: tensao: 3440319.33 | deformacao: 0.0008600798332601816 | força: 309.63\n",
      "Membro 16: tensao: 3364702.34 | deformacao: 0.0008411755838151529 | força: 302.82\n",
      "Membro 17: tensao: -2175849.0 | deformacao: -0.0005439622492286498 | força: -195.83\n",
      "Membro 18: tensao: -2261094.9 | deformacao: -0.0005652737243381395 | força: -203.5\n",
      "Membro 19: tensao: -7697708.29 | deformacao: -0.00192442707244104 | força: -692.79\n",
      "Membro 20: tensao: -7708282.77 | deformacao: -0.0019270706921892238 | força: -693.75\n",
      "Membro 21: tensao: -8043055.53 | deformacao: -0.0020107638830535305 | força: -723.87\n",
      "Membro 22: tensao: -8040847.7 | deformacao: -0.002010211925969227 | força: -723.68\n",
      "Membro 23: tensao: -8854054.12 | deformacao: -0.0022135135294221392 | força: -796.86\n",
      "Membro 24: tensao: -9041589.63 | deformacao: -0.002260397406308721 | força: -813.74\n"
     ]
    }
   ],
   "source": [
    "forca_membros=[]\n",
    "tensao_membros=[]\n",
    "deform_membros=[]\n",
    "for i in range(num_membros):\n",
    "    tensao, deformacao, forca = tensao_e_deformacao(i+1, num_membros, u_completo, matriz_incidencia, matriz_nos, area)\n",
    "    forca_membros.append(forca)\n",
    "    tensao_membros.append(tensao)\n",
    "    deform_membros.append(deformacao)\n",
    "    print(\"Membro {0}: tensao: {1} | deformacao: {2} | força: {3}\".format(i+1, round(tensao,2), deformacao, round(forca,2)))"
   ]
  },
  {
   "cell_type": "code",
   "execution_count": 114,
   "metadata": {},
   "outputs": [
    {
     "data": {
      "text/plain": [
       "-9041589.625234883"
      ]
     },
     "execution_count": 114,
     "metadata": {},
     "output_type": "execute_result"
    }
   ],
   "source": [
    "min(tensao_membros)"
   ]
  },
  {
   "cell_type": "code",
   "execution_count": 115,
   "metadata": {},
   "outputs": [
    {
     "data": {
      "text/plain": [
       "7533409.873421947"
      ]
     },
     "execution_count": 115,
     "metadata": {},
     "output_type": "execute_result"
    }
   ],
   "source": [
    "max(tensao_membros)"
   ]
  },
  {
   "cell_type": "code",
   "execution_count": 116,
   "metadata": {},
   "outputs": [],
   "source": [
    "#Algum membro ultrapassou a tensão de ruptura em tração ou compressão;\n",
    "min(tensao_membros)\n",
    "for e in tensao_membros:\n",
    "    if abs(e) > 18*(10**6):\n",
    "        print(\"Colapso\")"
   ]
  },
  {
   "cell_type": "code",
   "execution_count": 117,
   "metadata": {},
   "outputs": [],
   "source": [
    "#Algum membro teve deformação maior do que 5%.\n",
    "for i in deform_membros:\n",
    "    if i > 0.05:\n",
    "        print(\"Colapso\")"
   ]
  },
  {
   "cell_type": "code",
   "execution_count": 118,
   "metadata": {},
   "outputs": [],
   "source": [
    "#Algum nó se deslocou mais do que 20mm em X ou em Y.\n",
    "for us in u_completo:\n",
    "    if abs(us) > 0.02:\n",
    "         print(\"Colapso\")"
   ]
  },
  {
   "cell_type": "code",
   "execution_count": 119,
   "metadata": {},
   "outputs": [
    {
     "name": "stdout",
     "output_type": "stream",
     "text": [
      "Soma peso: 0.15110244974343096 kg\n",
      "Max comprimento: 0.10897706180660223\n"
     ]
    }
   ],
   "source": [
    "peso, compr = valida_peso_comprimento(matriz_nos, matriz_incidencia, 848, area,num_membros)\n",
    "print(\"Soma peso: {0} kg\\nMax comprimento: {1}\".format(sum(peso), max(compr)))"
   ]
  },
  {
   "cell_type": "code",
   "execution_count": 120,
   "metadata": {},
   "outputs": [],
   "source": [
    "x = list(matriz_nos[0, :])\n",
    "y = list(matriz_nos[1, :])"
   ]
  },
  {
   "cell_type": "code",
   "execution_count": 121,
   "metadata": {
    "scrolled": true
   },
   "outputs": [
    {
     "data": {
      "image/png": "[encoded data removed]",
      "text/plain": [
       "<Figure size 432x288 with 1 Axes>"
      ]
     },
     "metadata": {
      "needs_background": "light"
     },
     "output_type": "display_data"
    }
   ],
   "source": [
    "# Plotando a treliça sem os deslocamentos\n",
    "for i in range(num_membros):\n",
    "    no_1 = int(matriz_incidencia[i-1, 0])\n",
    "    no_2 = int(matriz_incidencia[i-1, 1])\n",
    "    \n",
    "    x_nos = []\n",
    "    y_nos = []\n",
    "    \n",
    "    x_nos.append(matriz_nos[0, no_1-1])\n",
    "    x_nos.append(matriz_nos[0, no_2-1])\n",
    "    \n",
    "    y_nos.append(matriz_nos[1, no_1-1])\n",
    "    y_nos.append(matriz_nos[1, no_2-1])\n",
    "    \n",
    "    plt.plot(x_nos, y_nos, color=\"red\")"
   ]
  },
  {
   "cell_type": "code",
   "execution_count": null,
   "metadata": {},
   "outputs": [],
   "source": []
  }
 ],
 "metadata": {
  "kernelspec": {
   "display_name": "Python 3",
   "language": "python",
   "name": "python3"
  },
  "language_info": {
   "codemirror_mode": {
    "name": "ipython",
    "version": 3
   },
   "file_extension": ".py",
   "mimetype": "text/x-python",
   "name": "python",
   "nbconvert_exporter": "python",
   "pygments_lexer": "ipython3",
   "version": "3.8.3"
  }
 },
 "nbformat": 4,
 "nbformat_minor": 4
}
