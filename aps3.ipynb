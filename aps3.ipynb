{
 "cells": [
  {
   "cell_type": "markdown",
   "metadata": {},
   "source": [
    "# APS 3 - Aula 20\n",
    "---"
   ]
  },
  {
   "cell_type": "code",
   "execution_count": 1,
   "metadata": {},
   "outputs": [],
   "source": [
    "import matplotlib.pyplot as plt\n",
    "import numpy as np\n",
    "from funcoesTermosol import *\n",
    "import math\n",
    "from app_utils import *"
   ]
  },
  {
   "cell_type": "code",
   "execution_count": 2,
   "metadata": {},
   "outputs": [],
   "source": [
    "num_nos, matriz_nos, num_membros, matriz_incidencia, num_cargas, v_carregamento, num_rest, v_rest = importa(\"entrada_p4.xlsx\")"
   ]
  },
  {
   "cell_type": "code",
   "execution_count": 3,
   "metadata": {},
   "outputs": [],
   "source": [
    "#calcula matriz de conectividade global\n",
    "conectividade_global = conec_global_T(matriz_incidencia, num_membros, num_nos)\n",
    "conectividade_global;"
   ]
  },
  {
   "cell_type": "code",
   "execution_count": 4,
   "metadata": {},
   "outputs": [],
   "source": [
    "#calcula matriz dos membros\n",
    "matriz_dos_membros = np.dot(matriz_nos, conectividade_global) \n",
    "matriz_dos_membros;"
   ]
  },
  {
   "cell_type": "code",
   "execution_count": 5,
   "metadata": {},
   "outputs": [],
   "source": [
    "calculate_Se(1, matriz_incidencia, matriz_nos, matriz_dos_membros);"
   ]
  },
  {
   "cell_type": "code",
   "execution_count": 6,
   "metadata": {},
   "outputs": [],
   "source": [
    "calculate_K(1, matriz_incidencia, matriz_nos, matriz_dos_membros, num_nos);"
   ]
  },
  {
   "cell_type": "code",
   "execution_count": 7,
   "metadata": {},
   "outputs": [],
   "source": [
    "#caclula matriz de rigidez global\n",
    "KG = matriz_global(num_nos, num_membros, matriz_incidencia, matriz_nos, matriz_dos_membros) "
   ]
  },
  {
   "cell_type": "code",
   "execution_count": 8,
   "metadata": {},
   "outputs": [],
   "source": [
    "KG;"
   ]
  },
  {
   "cell_type": "code",
   "execution_count": 9,
   "metadata": {},
   "outputs": [],
   "source": [
    "#condição de contorno\n",
    "Pg = vetor_global_de_forcas(num_rest, v_rest, v_carregamento)\n",
    "Pg;"
   ]
  },
  {
   "cell_type": "code",
   "execution_count": 10,
   "metadata": {},
   "outputs": [],
   "source": [
    "#exclui linhas e colunas\n",
    "KG_solucao = MR_para_solucao(KG, v_rest)"
   ]
  },
  {
   "cell_type": "code",
   "execution_count": 11,
   "metadata": {
    "scrolled": true
   },
   "outputs": [
    {
     "name": "stderr",
     "output_type": "stream",
     "text": [
      "  0%|▏                                                                          | 222/100000 [00:00<00:14, 6963.48it/s]"
     ]
    },
    {
     "name": "stdout",
     "output_type": "stream",
     "text": [
      "Convergiu na 222º iteracao\n"
     ]
    },
    {
     "name": "stderr",
     "output_type": "stream",
     "text": [
      "\n"
     ]
    }
   ],
   "source": [
    "#calcula os deslocamentos usando a solução de gauss\n",
    "u = solucao_gauss(KG_solucao, Pg, 100000, 1e-4)"
   ]
  },
  {
   "cell_type": "code",
   "execution_count": 12,
   "metadata": {},
   "outputs": [],
   "source": [
    "#adiciona 0 nos deslocamentos nulos\n",
    "u_completo = completa_u(u, v_rest)"
   ]
  },
  {
   "cell_type": "code",
   "execution_count": null,
   "metadata": {},
   "outputs": [],
   "source": [
    "u_completo;"
   ]
  },
  {
   "cell_type": "code",
   "execution_count": 13,
   "metadata": {},
   "outputs": [],
   "source": [
    "#calcula todas as forças de apoio\n",
    "forcas = calculate_force_complete(KG, u_completo, v_rest)"
   ]
  },
  {
   "cell_type": "code",
   "execution_count": 14,
   "metadata": {},
   "outputs": [
    {
     "name": "stdout",
     "output_type": "stream",
     "text": [
      "R1x: [0.14157527]\n",
      "R1y: [0.42608075]\n",
      "R2y: [-0.14261619]\n",
      "R3y: [-1.42616192]\n"
     ]
    },
    {
     "ename": "IndexError",
     "evalue": "list index out of range",
     "output_type": "error",
     "traceback": [
      "\u001b[1;31m---------------------------------------------------------------------------\u001b[0m",
      "\u001b[1;31mIndexError\u001b[0m                                Traceback (most recent call last)",
      "\u001b[1;32m<ipython-input-14-59ebebc5eac6>\u001b[0m in \u001b[0;36m<module>\u001b[1;34m\u001b[0m\n\u001b[0;32m      1\u001b[0m \u001b[0mtitle_to_print\u001b[0m \u001b[1;33m=\u001b[0m \u001b[1;33m[\u001b[0m\u001b[1;34m\"R1x\"\u001b[0m\u001b[1;33m,\u001b[0m \u001b[1;34m\"R1y\"\u001b[0m\u001b[1;33m,\u001b[0m \u001b[1;34m\"R2y\"\u001b[0m\u001b[1;33m,\u001b[0m \u001b[1;34m\"R3y\"\u001b[0m\u001b[1;33m,\u001b[0m \u001b[1;34m\"R4y\"\u001b[0m\u001b[1;33m,\u001b[0m \u001b[1;34m\"R5x\"\u001b[0m\u001b[1;33m,\u001b[0m \u001b[1;34m\"R5y\"\u001b[0m\u001b[1;33m]\u001b[0m\u001b[1;33m\u001b[0m\u001b[1;33m\u001b[0m\u001b[0m\n\u001b[0;32m      2\u001b[0m \u001b[1;32mfor\u001b[0m \u001b[0mi\u001b[0m \u001b[1;32min\u001b[0m \u001b[0mrange\u001b[0m\u001b[1;33m(\u001b[0m\u001b[0mlen\u001b[0m\u001b[1;33m(\u001b[0m\u001b[0mtitle_to_print\u001b[0m\u001b[1;33m)\u001b[0m\u001b[1;33m)\u001b[0m\u001b[1;33m:\u001b[0m\u001b[1;33m\u001b[0m\u001b[1;33m\u001b[0m\u001b[0m\n\u001b[1;32m----> 3\u001b[1;33m     \u001b[0mprint\u001b[0m\u001b[1;33m(\u001b[0m\u001b[1;34m\"{0}: {1}\"\u001b[0m\u001b[1;33m.\u001b[0m\u001b[0mformat\u001b[0m\u001b[1;33m(\u001b[0m\u001b[0mtitle_to_print\u001b[0m\u001b[1;33m[\u001b[0m\u001b[0mi\u001b[0m\u001b[1;33m]\u001b[0m\u001b[1;33m,\u001b[0m \u001b[0mforcas\u001b[0m\u001b[1;33m[\u001b[0m\u001b[0mi\u001b[0m\u001b[1;33m]\u001b[0m\u001b[1;33m)\u001b[0m\u001b[1;33m)\u001b[0m\u001b[1;33m\u001b[0m\u001b[1;33m\u001b[0m\u001b[0m\n\u001b[0m",
      "\u001b[1;31mIndexError\u001b[0m: list index out of range"
     ]
    }
   ],
   "source": [
    "title_to_print = [\"R1x\", \"R1y\", \"R2y\", \"R3y\", \"R4y\", \"R5x\", \"R5y\"]\n",
    "for i in range(len(title_to_print)):\n",
    "    print(\"{0}: {1}\".format(title_to_print[i], forcas[i]))"
   ]
  },
  {
   "cell_type": "code",
   "execution_count": 15,
   "metadata": {},
   "outputs": [
    {
     "data": {
      "text/plain": [
       "0.07068583470577035"
      ]
     },
     "execution_count": 15,
     "metadata": {},
     "output_type": "execute_result"
    }
   ],
   "source": [
    "#área fornecida pela estrutura\n",
    "area = math.pi*0.15**2 \n",
    "area"
   ]
  },
  {
   "cell_type": "code",
   "execution_count": 16,
   "metadata": {},
   "outputs": [
    {
     "name": "stdout",
     "output_type": "stream",
     "text": [
      "Membro 1: tensao: 0.0 | deformacao: 0.0 | força: 0.0\n",
      "Membro 2: tensao: 20.28 | deformacao: 9.655568208775064e-11 | força: 1.43\n",
      "Membro 3: tensao: -3.21 | deformacao: -1.5267490644632664e-11 | força: -0.23\n",
      "Membro 4: tensao: -3.52 | deformacao: -1.678194768930149e-11 | força: -0.25\n",
      "Membro 5: tensao: 3.52 | deformacao: 1.6764867767550927e-11 | força: 0.25\n",
      "Membro 6: tensao: 18.02 | deformacao: 8.582548219238827e-11 | força: 1.27\n",
      "Membro 7: tensao: -4.99 | deformacao: -2.374696168579379e-11 | força: -0.35\n",
      "Membro 8: tensao: 0.0 | deformacao: 0.0 | força: 0.0\n",
      "Membro 9: tensao: -0.01 | deformacao: -3.400923080601518e-14 | força: -0.0\n"
     ]
    }
   ],
   "source": [
    "forca_membros=[]\n",
    "tensao_membros=[]\n",
    "deform_membros=[]\n",
    "for i in range(num_membros):\n",
    "    tensao, deformacao, forca = tensao_e_deformacao(i+1, num_membros, u_completo, matriz_incidencia, matriz_nos, area)\n",
    "    forca_membros.append(forca)\n",
    "    tensao_membros.append(tensao)\n",
    "    deform_membros.append(deformacao)\n",
    "    print(\"Membro {0}: tensao: {1} | deformacao: {2} | força: {3}\".format(i+1, round(tensao,2), deformacao, round(forca,2)))"
   ]
  },
  {
   "cell_type": "code",
   "execution_count": null,
   "metadata": {},
   "outputs": [],
   "source": [
    "#As entradas devem ser vetores coluna\n",
    "geraSaida('APS3_saida', np.array((forcas)),u,np.array([deform_membros]).T,np.array([forca_membros]).T,np.array([tensao_membros]).T)"
   ]
  },
  {
   "cell_type": "code",
   "execution_count": null,
   "metadata": {},
   "outputs": [],
   "source": [
    "x = list(matriz_nos[0, :])\n",
    "y = list(matriz_nos[1, :])"
   ]
  },
  {
   "cell_type": "code",
   "execution_count": null,
   "metadata": {},
   "outputs": [],
   "source": [
    "# Plotando a treliça sem os deslocamentos\n",
    "for i in range(num_membros):\n",
    "    no_1 = int(matriz_incidencia[i-1, 0])\n",
    "    no_2 = int(matriz_incidencia[i-1, 1])\n",
    "    \n",
    "    x_nos = []\n",
    "    y_nos = []\n",
    "    \n",
    "    x_nos.append(matriz_nos[0, no_1-1])\n",
    "    x_nos.append(matriz_nos[0, no_2-1])\n",
    "    \n",
    "    y_nos.append(matriz_nos[1, no_1-1])\n",
    "    y_nos.append(matriz_nos[1, no_2-1])\n",
    "    \n",
    "    plt.plot(x_nos, y_nos, color=\"red\")"
   ]
  },
  {
   "cell_type": "code",
   "execution_count": null,
   "metadata": {},
   "outputs": [],
   "source": [
    "# Plotando a treliça COM os deslocamentos\n",
    "\n",
    "amplific = 426459.2 #fator de ampliação sugerido pelo Lisa\n",
    "for i in range(num_membros):\n",
    "    no_1 = int(matriz_incidencia[i-1, 0])\n",
    "    no_2 = int(matriz_incidencia[i-1, 1])\n",
    "    \n",
    "    d_no_1_x = u_completo[(no_1-1)*2]\n",
    "    d_no_1_y = u_completo[(no_1-1)*2 +1]\n",
    "    d_no_2_x = u_completo[(no_2-1)*2]\n",
    "    d_no_2_y = u_completo[(no_1-1)*2]\n",
    "    \n",
    "    x_nos = []\n",
    "    y_nos = []\n",
    "    \n",
    "    x_nos.append(matriz_nos[0, no_1-1]+(d_no_1_x*amplific))\n",
    "    x_nos.append(matriz_nos[0, no_2-1]+(d_no_2_x*amplific))\n",
    "    \n",
    "    y_nos.append(matriz_nos[1, no_1-1]+(d_no_1_y*amplific))\n",
    "    y_nos.append(matriz_nos[1, no_2-1]+(d_no_2_y*amplific))\n",
    "    \n",
    "    plt.plot(x_nos, y_nos, color=\"red\")\n",
    "    "
   ]
  },
  {
   "cell_type": "code",
   "execution_count": 17,
   "metadata": {},
   "outputs": [
    {
     "data": {
      "text/plain": [
       "14.812"
      ]
     },
     "execution_count": 17,
     "metadata": {},
     "output_type": "execute_result"
    }
   ],
   "source": [
    "3.513 + 11.299"
   ]
  },
  {
   "cell_type": "code",
   "execution_count": null,
   "metadata": {},
   "outputs": [],
   "source": []
  }
 ],
 "metadata": {
  "kernelspec": {
   "display_name": "Python 3",
   "language": "python",
   "name": "python3"
  },
  "language_info": {
   "codemirror_mode": {
    "name": "ipython",
    "version": 3
   },
   "file_extension": ".py",
   "mimetype": "text/x-python",
   "name": "python",
   "nbconvert_exporter": "python",
   "pygments_lexer": "ipython3",
   "version": "3.8.3"
  }
 },
 "nbformat": 4,
 "nbformat_minor": 4
}
