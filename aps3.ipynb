{
 "cells": [
  {
   "cell_type": "markdown",
   "metadata": {},
   "source": [
    "# APS 3 - Aula 20\n",
    "---"
   ]
  },
  {
   "cell_type": "code",
   "execution_count": 1,
   "metadata": {},
   "outputs": [],
   "source": [
    "import matplotlib.pyplot as plt\n",
    "import numpy as np\n",
    "from funcoesTermosol import *\n",
    "import math\n",
    "from app_utils import *"
   ]
  },
  {
   "cell_type": "markdown",
   "metadata": {},
   "source": [
    "# Treliça 1"
   ]
  },
  {
   "attachments": {
    "trelica1_nos.png": {
     "image/png": "[encoded data removed]"
    }
   },
   "cell_type": "markdown",
   "metadata": {},
   "source": [
    "![trelica1_nos.png](attachment:trelica1_nos.png)"
   ]
  },
  {
   "cell_type": "code",
   "execution_count": 2,
   "metadata": {},
   "outputs": [],
   "source": [
    "num_nos, matriz_nos, num_membros, matriz_incidencia, num_cargas, v_carregamento, num_rest, v_rest = importa(\"entrada.xlsx\")"
   ]
  },
  {
   "cell_type": "code",
   "execution_count": 3,
   "metadata": {},
   "outputs": [],
   "source": [
    "#calcula matriz de conectividade global\n",
    "conectividade_global = conec_global_T(matriz_incidencia, num_membros, num_nos)\n",
    "conectividade_global;"
   ]
  },
  {
   "cell_type": "code",
   "execution_count": 4,
   "metadata": {},
   "outputs": [],
   "source": [
    "#calcula matriz dos membros\n",
    "matriz_dos_membros = np.dot(matriz_nos, conectividade_global) \n",
    "matriz_dos_membros;"
   ]
  },
  {
   "cell_type": "code",
   "execution_count": 5,
   "metadata": {},
   "outputs": [],
   "source": [
    "calculate_Se(1, matriz_incidencia, matriz_nos, matriz_dos_membros);"
   ]
  },
  {
   "cell_type": "code",
   "execution_count": 6,
   "metadata": {},
   "outputs": [],
   "source": [
    "calculate_K(1, matriz_incidencia, matriz_nos, matriz_dos_membros, num_nos);"
   ]
  },
  {
   "cell_type": "code",
   "execution_count": 7,
   "metadata": {},
   "outputs": [],
   "source": [
    "#caclula matriz de rigidez global\n",
    "KG = matriz_global(num_nos, num_membros, matriz_incidencia, matriz_nos, matriz_dos_membros) "
   ]
  },
  {
   "cell_type": "code",
   "execution_count": 8,
   "metadata": {},
   "outputs": [],
   "source": [
    "KG;"
   ]
  },
  {
   "cell_type": "code",
   "execution_count": 9,
   "metadata": {},
   "outputs": [],
   "source": [
    "#condição de contorno\n",
    "Pg = vetor_global_de_forcas(num_rest, v_rest, v_carregamento)\n",
    "Pg;"
   ]
  },
  {
   "cell_type": "code",
   "execution_count": 10,
   "metadata": {},
   "outputs": [],
   "source": [
    "#exclui linhas e colunas\n",
    "KG_solucao = MR_para_solucao(KG, v_rest)"
   ]
  },
  {
   "cell_type": "code",
   "execution_count": 11,
   "metadata": {
    "scrolled": true
   },
   "outputs": [
    {
     "name": "stderr",
     "output_type": "stream",
     "text": [
      "\r",
      "  0%|                                                                                       | 0/100000 [00:00<?, ?it/s]"
     ]
    },
    {
     "name": "stdout",
     "output_type": "stream",
     "text": [
      "Convergiu na 148º iteracao\n"
     ]
    },
    {
     "name": "stderr",
     "output_type": "stream",
     "text": [
      "\n"
     ]
    }
   ],
   "source": [
    "#calcula os deslocamentos usando a solução de gauss\n",
    "u = solucao_gauss(KG_solucao, Pg, 100000, 1e-4)"
   ]
  },
  {
   "cell_type": "code",
   "execution_count": 12,
   "metadata": {},
   "outputs": [],
   "source": [
    "#adiciona 0 nos deslocamentos nulos\n",
    "u_completo = completa_u(u, v_rest)"
   ]
  },
  {
   "cell_type": "code",
   "execution_count": 13,
   "metadata": {},
   "outputs": [],
   "source": [
    "u_completo;"
   ]
  },
  {
   "cell_type": "code",
   "execution_count": 14,
   "metadata": {},
   "outputs": [],
   "source": [
    "#calcula todas as forças de apoio\n",
    "forcas = calculate_force_complete(KG, u_completo, v_rest)"
   ]
  },
  {
   "cell_type": "code",
   "execution_count": 15,
   "metadata": {},
   "outputs": [
    {
     "name": "stdout",
     "output_type": "stream",
     "text": [
      "R1x: [115.70585935]\n",
      "R1y: [74.84466697]\n",
      "R2x: [-115.70672774]\n",
      "R2y: [74.84866878]\n"
     ]
    }
   ],
   "source": [
    "title_to_print = [\"R1x\", \"R1y\", \"R2x\", \"R2y\"]\n",
    "for i in range(len(title_to_print)):\n",
    "    print(\"{0}: {1}\".format(title_to_print[i], forcas[i]))"
   ]
  },
  {
   "cell_type": "code",
   "execution_count": 16,
   "metadata": {},
   "outputs": [],
   "source": [
    "#área fornecida pela estrutura\n",
    "area = 0.00003"
   ]
  },
  {
   "cell_type": "code",
   "execution_count": 17,
   "metadata": {
    "scrolled": false
   },
   "outputs": [
    {
     "name": "stdout",
     "output_type": "stream",
     "text": [
      "Membro 1: tensao: -210583.33 | deformacao: -5.2645832727096705e-05 | força: -6.32\n",
      "Membro 2: tensao: -210502.0 | deformacao: -5.262550067487654e-05 | força: -6.32\n",
      "Membro 3: tensao: 1195377.07 | deformacao: 0.0002988442685098146 | força: 35.86\n",
      "Membro 4: tensao: -306377.15 | deformacao: -7.659428724920349e-05 | força: -9.19\n",
      "Membro 5: tensao: -306377.15 | deformacao: -7.659428724920349e-05 | força: -9.19\n",
      "Membro 6: tensao: -4418086.23 | deformacao: -0.0011045215577541363 | força: -132.54\n",
      "Membro 7: tensao: -4953796.22 | deformacao: -0.0012384490551692856 | força: -148.61\n",
      "Membro 8: tensao: -4182635.49 | deformacao: -0.0010456588735103388 | força: -125.48\n",
      "Membro 9: tensao: -4936643.9 | deformacao: -0.0012341609749659266 | força: -148.1\n",
      "Membro 10: tensao: -4339464.44 | deformacao: -0.0010848661106018108 | força: -130.18\n",
      "Membro 11: tensao: -1923.54 | deformacao: -4.808851539111901e-07 | força: -0.06\n",
      "Membro 12: tensao: -209524.13 | deformacao: -5.2381031577056507e-05 | força: -6.29\n",
      "Membro 13: tensao: -161090.21 | deformacao: -4.0272552281096774e-05 | força: -4.83\n",
      "Membro 14: tensao: -2028.63 | deformacao: -5.071579069606946e-07 | força: -0.06\n",
      "Membro 15: tensao: 1197909.07 | deformacao: 0.00029947726819146825 | força: 35.94\n",
      "Membro 16: tensao: 1304192.97 | deformacao: 0.0003260482432672991 | força: 39.13\n",
      "Membro 17: tensao: -695889.43 | deformacao: -0.0001739723579577823 | força: -20.88\n",
      "Membro 18: tensao: -695854.3 | deformacao: -0.00017396357561446754 | força: -20.88\n"
     ]
    }
   ],
   "source": [
    "forca_membros=[]\n",
    "tensao_membros=[]\n",
    "deform_membros=[]\n",
    "for i in range(num_membros):\n",
    "    tensao, deformacao, forca = tensao_e_deformacao(i+1, num_membros, u_completo, matriz_incidencia, matriz_nos, area)\n",
    "    forca_membros.append(forca)\n",
    "    tensao_membros.append(tensao)\n",
    "    deform_membros.append(deformacao)\n",
    "    print(\"Membro {0}: tensao: {1} | deformacao: {2} | força: {3}\".format(i+1, round(tensao,2), deformacao, round(forca,2)))"
   ]
  },
  {
   "cell_type": "code",
   "execution_count": 18,
   "metadata": {},
   "outputs": [],
   "source": [
    "#Algum membro ultrapassou a tensão de ruptura em tração ou compressão;\n",
    "for e in tensao_membros:\n",
    "    if abs(e) > 18e6:\n",
    "        print(\"Colapso\")"
   ]
  },
  {
   "cell_type": "code",
   "execution_count": 19,
   "metadata": {},
   "outputs": [],
   "source": [
    "#Algum membro teve deformação maior do que 5%.\n",
    "for i in deform_membros:\n",
    "    if i > 0.05:\n",
    "        print(\"Colapso\")"
   ]
  },
  {
   "cell_type": "code",
   "execution_count": 20,
   "metadata": {},
   "outputs": [],
   "source": [
    "#Algum nó se deslocou mais do que 20mm em X ou em Y.\n",
    "for us in u_completo:\n",
    "    if us > 0.02:\n",
    "         print(\"Colapso\")"
   ]
  },
  {
   "cell_type": "code",
   "execution_count": 21,
   "metadata": {},
   "outputs": [
    {
     "name": "stdout",
     "output_type": "stream",
     "text": [
      "0\n",
      "6\n",
      "10\n",
      "15\n",
      "16\n",
      "17\n",
      "Soma peso: 0.04487296250839704 kg\n",
      "Max comprimento: 0.128062484748657\n"
     ]
    }
   ],
   "source": [
    "peso, compr = valida_peso_comprimento(matriz_nos, matriz_incidencia, 848, 0.00003,num_membros)\n",
    "print(\"Soma peso: {0} kg\\nMax comprimento: {1}\".format(sum(peso), max(compr)))"
   ]
  },
  {
   "cell_type": "code",
   "execution_count": 22,
   "metadata": {},
   "outputs": [],
   "source": [
    "#As entradas devem ser vetores coluna\n",
    "geraSaida('APS3_saida', np.array((forcas)),u,np.array([deform_membros]).T,np.array([forca_membros]).T,np.array([tensao_membros]).T)"
   ]
  },
  {
   "cell_type": "code",
   "execution_count": 23,
   "metadata": {},
   "outputs": [],
   "source": [
    "x = list(matriz_nos[0, :])\n",
    "y = list(matriz_nos[1, :])"
   ]
  },
  {
   "cell_type": "code",
   "execution_count": 24,
   "metadata": {},
   "outputs": [
    {
     "data": {
      "image/png": "[encoded data removed]",
      "text/plain": [
       "<Figure size 432x288 with 1 Axes>"
      ]
     },
     "metadata": {
      "needs_background": "light"
     },
     "output_type": "display_data"
    }
   ],
   "source": [
    "# Plotando a treliça sem os deslocamentos\n",
    "for i in range(num_membros):\n",
    "    no_1 = int(matriz_incidencia[i-1, 0])\n",
    "    no_2 = int(matriz_incidencia[i-1, 1])\n",
    "    \n",
    "    x_nos = []\n",
    "    y_nos = []\n",
    "    \n",
    "    x_nos.append(matriz_nos[0, no_1-1])\n",
    "    x_nos.append(matriz_nos[0, no_2-1])\n",
    "    \n",
    "    y_nos.append(matriz_nos[1, no_1-1])\n",
    "    y_nos.append(matriz_nos[1, no_2-1])\n",
    "    \n",
    "    plt.plot(x_nos, y_nos, color=\"red\")"
   ]
  },
  {
   "cell_type": "markdown",
   "metadata": {},
   "source": [
    "# Treliça 2"
   ]
  },
  {
   "cell_type": "code",
   "execution_count": 25,
   "metadata": {},
   "outputs": [],
   "source": [
    "num_nos, matriz_nos, num_membros, matriz_incidencia, num_cargas, v_carregamento, num_rest, v_rest = importa(\"entrada2.xlsx\")"
   ]
  },
  {
   "cell_type": "code",
   "execution_count": 26,
   "metadata": {},
   "outputs": [],
   "source": [
    "#calcula matriz de conectividade global\n",
    "conectividade_global = conec_global_T(matriz_incidencia, num_membros, num_nos)\n",
    "conectividade_global;"
   ]
  },
  {
   "cell_type": "code",
   "execution_count": 27,
   "metadata": {},
   "outputs": [],
   "source": [
    "#calcula matriz dos membros\n",
    "matriz_dos_membros = np.dot(matriz_nos, conectividade_global) \n",
    "matriz_dos_membros;"
   ]
  },
  {
   "cell_type": "code",
   "execution_count": 28,
   "metadata": {},
   "outputs": [],
   "source": [
    "calculate_Se(1, matriz_incidencia, matriz_nos, matriz_dos_membros);"
   ]
  },
  {
   "cell_type": "code",
   "execution_count": 29,
   "metadata": {},
   "outputs": [],
   "source": [
    "calculate_K(1, matriz_incidencia, matriz_nos, matriz_dos_membros, num_nos);"
   ]
  },
  {
   "cell_type": "code",
   "execution_count": 30,
   "metadata": {},
   "outputs": [],
   "source": [
    "#caclula matriz de rigidez global\n",
    "KG = matriz_global(num_nos, num_membros, matriz_incidencia, matriz_nos, matriz_dos_membros) "
   ]
  },
  {
   "cell_type": "code",
   "execution_count": 31,
   "metadata": {},
   "outputs": [],
   "source": [
    "KG;"
   ]
  },
  {
   "cell_type": "code",
   "execution_count": 32,
   "metadata": {},
   "outputs": [],
   "source": [
    "#condição de contorno\n",
    "Pg = vetor_global_de_forcas(num_rest, v_rest, v_carregamento)\n",
    "Pg;"
   ]
  },
  {
   "cell_type": "code",
   "execution_count": 33,
   "metadata": {},
   "outputs": [],
   "source": [
    "#exclui linhas e colunas\n",
    "KG_solucao = MR_para_solucao(KG, v_rest)"
   ]
  },
  {
   "cell_type": "code",
   "execution_count": 34,
   "metadata": {},
   "outputs": [
    {
     "name": "stderr",
     "output_type": "stream",
     "text": [
      "  0%|▏                                                                          | 228/100000 [00:00<00:44, 2263.43it/s]"
     ]
    },
    {
     "name": "stdout",
     "output_type": "stream",
     "text": [
      "Convergiu na 239º iteracao\n"
     ]
    },
    {
     "name": "stderr",
     "output_type": "stream",
     "text": [
      "\n"
     ]
    }
   ],
   "source": [
    "#calcula os deslocamentos usando a solução de gauss\n",
    "u = solucao_gauss(KG_solucao, Pg, 100000, 1e-4)"
   ]
  },
  {
   "cell_type": "code",
   "execution_count": 35,
   "metadata": {},
   "outputs": [],
   "source": [
    "#adiciona 0 nos deslocamentos nulos\n",
    "u_completo = completa_u(u, v_rest)"
   ]
  },
  {
   "cell_type": "code",
   "execution_count": 36,
   "metadata": {},
   "outputs": [],
   "source": [
    "u_completo;"
   ]
  },
  {
   "cell_type": "code",
   "execution_count": 37,
   "metadata": {},
   "outputs": [],
   "source": [
    "#calcula todas as forças de apoio\n",
    "forcas = calculate_force_complete(KG, u_completo, v_rest)"
   ]
  },
  {
   "cell_type": "code",
   "execution_count": 38,
   "metadata": {},
   "outputs": [
    {
     "name": "stdout",
     "output_type": "stream",
     "text": [
      "R1x: [156.93881791]\n",
      "R1y: [74.69299907]\n",
      "R2x: [-156.93496011]\n",
      "R2y: [74.69859148]\n"
     ]
    }
   ],
   "source": [
    "title_to_print = [\"R1x\", \"R1y\", \"R2x\", \"R2y\"]\n",
    "for i in range(len(title_to_print)):\n",
    "    print(\"{0}: {1}\".format(title_to_print[i], forcas[i]))"
   ]
  },
  {
   "cell_type": "code",
   "execution_count": 39,
   "metadata": {},
   "outputs": [],
   "source": [
    "#área fornecida pela estrutura\n",
    "area = 0.00003"
   ]
  },
  {
   "cell_type": "code",
   "execution_count": 40,
   "metadata": {},
   "outputs": [
    {
     "name": "stdout",
     "output_type": "stream",
     "text": [
      "Membro 1: tensao: -313875.42 | deformacao: -7.846885481034522e-05 | força: -9.42\n",
      "Membro 2: tensao: -313639.05 | deformacao: -7.840976236132456e-05 | força: -9.41\n",
      "Membro 3: tensao: 1749524.93 | deformacao: 0.00043738123325413116 | força: 52.49\n",
      "Membro 4: tensao: -442794.09 | deformacao: -0.00011069852201054619 | força: -13.28\n",
      "Membro 5: tensao: -442794.09 | deformacao: -0.00011069852201054619 | força: -13.28\n",
      "Membro 6: tensao: -5511800.32 | deformacao: -0.0013779500788037885 | força: -165.35\n",
      "Membro 7: tensao: -6482277.06 | deformacao: -0.0016205692661272087 | força: -194.47\n",
      "Membro 8: tensao: -5479902.84 | deformacao: -0.0013699757088317548 | força: -164.4\n",
      "Membro 9: tensao: -6469387.66 | deformacao: -0.001617346914977813 | força: -194.08\n",
      "Membro 10: tensao: -5397070.08 | deformacao: -0.001349267519037054 | força: -161.91\n",
      "Membro 11: tensao: -4208.46 | deformacao: -1.0521153693055926e-06 | força: -0.13\n",
      "Membro 12: tensao: -61384.71 | deformacao: -1.5346177650037267e-05 | força: -1.84\n",
      "Membro 13: tensao: -13092.99 | deformacao: -3.2732485203907864e-06 | força: -0.39\n",
      "Membro 14: tensao: -4447.82 | deformacao: -1.1119542868047104e-06 | força: -0.13\n",
      "Membro 15: tensao: 1488294.19 | deformacao: 0.00037207354760308863 | força: 44.65\n",
      "Membro 16: tensao: 1625266.18 | deformacao: 0.0004063165439923243 | força: 48.76\n",
      "Membro 17: tensao: -1022385.16 | deformacao: -0.0002555962890470879 | força: -30.67\n",
      "Membro 18: tensao: -1022264.43 | deformacao: -0.0002555661075010801 | força: -30.67\n"
     ]
    }
   ],
   "source": [
    "forca_membros=[]\n",
    "tensao_membros=[]\n",
    "deform_membros=[]\n",
    "for i in range(num_membros):\n",
    "    tensao, deformacao, forca = tensao_e_deformacao(i+1, num_membros, u_completo, matriz_incidencia, matriz_nos, area)\n",
    "    forca_membros.append(forca)\n",
    "    tensao_membros.append(tensao)\n",
    "    deform_membros.append(deformacao)\n",
    "    print(\"Membro {0}: tensao: {1} | deformacao: {2} | força: {3}\".format(i+1, round(tensao,2), deformacao, round(forca,2)))"
   ]
  },
  {
   "cell_type": "code",
   "execution_count": 41,
   "metadata": {},
   "outputs": [],
   "source": [
    "#Algum membro ultrapassou a tensão de ruptura em tração ou compressão;\n",
    "for e in tensao_membros:\n",
    "    if abs(e) > 18e6:\n",
    "        print(\"Colapso\")"
   ]
  },
  {
   "cell_type": "code",
   "execution_count": 42,
   "metadata": {},
   "outputs": [],
   "source": [
    "#Algum membro teve deformação maior do que 5%.\n",
    "for i in deform_membros:\n",
    "    if i > 0.05:\n",
    "        print(\"Colapso\")"
   ]
  },
  {
   "cell_type": "code",
   "execution_count": 43,
   "metadata": {},
   "outputs": [],
   "source": [
    "#Algum nó se deslocou mais do que 20mm em X ou em Y.\n",
    "for us in u_completo:\n",
    "    if us > 0.02:\n",
    "         print(\"Colapso\")"
   ]
  },
  {
   "cell_type": "code",
   "execution_count": 44,
   "metadata": {},
   "outputs": [
    {
     "name": "stdout",
     "output_type": "stream",
     "text": [
      "Soma peso: 0.040677961807283614 kg\n",
      "Max comprimento: 0.10897706180660223\n"
     ]
    }
   ],
   "source": [
    "peso, compr = valida_peso_comprimento(matriz_nos, matriz_incidencia, 848, 0.00003,num_membros)\n",
    "print(\"Soma peso: {0} kg\\nMax comprimento: {1}\".format(sum(peso), max(compr)))"
   ]
  },
  {
   "cell_type": "code",
   "execution_count": 45,
   "metadata": {},
   "outputs": [],
   "source": [
    "x = list(matriz_nos[0, :])\n",
    "y = list(matriz_nos[1, :])"
   ]
  },
  {
   "cell_type": "code",
   "execution_count": 46,
   "metadata": {
    "scrolled": true
   },
   "outputs": [
    {
     "data": {
      "image/png": "[encoded data removed]",
      "text/plain": [
       "<Figure size 432x288 with 1 Axes>"
      ]
     },
     "metadata": {
      "needs_background": "light"
     },
     "output_type": "display_data"
    }
   ],
   "source": [
    "# Plotando a treliça sem os deslocamentos\n",
    "for i in range(num_membros):\n",
    "    no_1 = int(matriz_incidencia[i-1, 0])\n",
    "    no_2 = int(matriz_incidencia[i-1, 1])\n",
    "    \n",
    "    x_nos = []\n",
    "    y_nos = []\n",
    "    \n",
    "    x_nos.append(matriz_nos[0, no_1-1])\n",
    "    x_nos.append(matriz_nos[0, no_2-1])\n",
    "    \n",
    "    y_nos.append(matriz_nos[1, no_1-1])\n",
    "    y_nos.append(matriz_nos[1, no_2-1])\n",
    "    \n",
    "    plt.plot(x_nos, y_nos, color=\"red\")"
   ]
  },
  {
   "cell_type": "markdown",
   "metadata": {},
   "source": [
    "# Treliça 3 - max: 620"
   ]
  },
  {
   "cell_type": "code",
   "execution_count": 47,
   "metadata": {},
   "outputs": [],
   "source": [
    "num_nos, matriz_nos, num_membros, matriz_incidencia, num_cargas, v_carregamento, num_rest, v_rest = importa(\"entrada3.xlsx\")"
   ]
  },
  {
   "cell_type": "code",
   "execution_count": 203,
   "metadata": {},
   "outputs": [],
   "source": [
    "v_carregamento[13] = -620\n",
    "v_carregamento[15] = -620"
   ]
  },
  {
   "cell_type": "code",
   "execution_count": 204,
   "metadata": {},
   "outputs": [],
   "source": [
    "#calcula matriz de conectividade global\n",
    "conectividade_global = conec_global_T(matriz_incidencia, num_membros, num_nos)\n",
    "conectividade_global;"
   ]
  },
  {
   "cell_type": "code",
   "execution_count": 205,
   "metadata": {},
   "outputs": [],
   "source": [
    "#calcula matriz dos membros\n",
    "matriz_dos_membros = np.dot(matriz_nos, conectividade_global) \n",
    "matriz_dos_membros;"
   ]
  },
  {
   "cell_type": "code",
   "execution_count": 206,
   "metadata": {},
   "outputs": [],
   "source": [
    "calculate_Se(1, matriz_incidencia, matriz_nos, matriz_dos_membros);"
   ]
  },
  {
   "cell_type": "code",
   "execution_count": 207,
   "metadata": {},
   "outputs": [],
   "source": [
    "calculate_K(1, matriz_incidencia, matriz_nos, matriz_dos_membros, num_nos);"
   ]
  },
  {
   "cell_type": "code",
   "execution_count": 208,
   "metadata": {},
   "outputs": [],
   "source": [
    "#caclula matriz de rigidez global\n",
    "KG = matriz_global(num_nos, num_membros, matriz_incidencia, matriz_nos, matriz_dos_membros) "
   ]
  },
  {
   "cell_type": "code",
   "execution_count": 209,
   "metadata": {},
   "outputs": [],
   "source": [
    "KG;"
   ]
  },
  {
   "cell_type": "code",
   "execution_count": 210,
   "metadata": {},
   "outputs": [],
   "source": [
    "#condição de contorno\n",
    "Pg = vetor_global_de_forcas(num_rest, v_rest, v_carregamento)\n",
    "Pg;"
   ]
  },
  {
   "cell_type": "code",
   "execution_count": 211,
   "metadata": {},
   "outputs": [],
   "source": [
    "#exclui linhas e colunas\n",
    "KG_solucao = MR_para_solucao(KG, v_rest)"
   ]
  },
  {
   "cell_type": "code",
   "execution_count": 212,
   "metadata": {},
   "outputs": [
    {
     "name": "stderr",
     "output_type": "stream",
     "text": [
      " 10%|███████▎                                                                  | 9839/100000 [00:03<00:31, 2842.09it/s]"
     ]
    },
    {
     "name": "stdout",
     "output_type": "stream",
     "text": [
      "Convergiu na 10024º iteracao\n"
     ]
    },
    {
     "name": "stderr",
     "output_type": "stream",
     "text": [
      "\n"
     ]
    }
   ],
   "source": [
    "#calcula os deslocamentos usando a solução de gauss\n",
    "u = solucao_gauss(KG_solucao, Pg, 100000, 1e-4)"
   ]
  },
  {
   "cell_type": "code",
   "execution_count": 213,
   "metadata": {},
   "outputs": [],
   "source": [
    "#adiciona 0 nos deslocamentos nulos\n",
    "u_completo = completa_u(u, v_rest)"
   ]
  },
  {
   "cell_type": "code",
   "execution_count": 214,
   "metadata": {},
   "outputs": [],
   "source": [
    "u_completo;"
   ]
  },
  {
   "cell_type": "code",
   "execution_count": 215,
   "metadata": {},
   "outputs": [],
   "source": [
    "#calcula todas as forças de apoio\n",
    "forcas = calculate_force_complete(KG, u_completo, v_rest)"
   ]
  },
  {
   "cell_type": "code",
   "execution_count": 216,
   "metadata": {},
   "outputs": [
    {
     "name": "stdout",
     "output_type": "stream",
     "text": [
      "R1x: [1459.30077408]\n",
      "R1y: [619.92882599]\n",
      "R2x: [-1460.37442223]\n",
      "R2y: [620.06975842]\n"
     ]
    }
   ],
   "source": [
    "title_to_print = [\"R1x\", \"R1y\", \"R2x\", \"R2y\"]\n",
    "for i in range(len(title_to_print)):\n",
    "    print(\"{0}: {1}\".format(title_to_print[i], forcas[i]))"
   ]
  },
  {
   "cell_type": "code",
   "execution_count": 217,
   "metadata": {},
   "outputs": [],
   "source": [
    "#área fornecida pela estrutura\n",
    "area = 0.00009"
   ]
  },
  {
   "cell_type": "code",
   "execution_count": 218,
   "metadata": {
    "scrolled": true
   },
   "outputs": [
    {
     "name": "stdout",
     "output_type": "stream",
     "text": [
      "Membro 1: tensao: -2610101.35 | deformacao: -0.0006525253386826256 | força: -234.91\n",
      "Membro 2: tensao: 1588558.51 | deformacao: 0.00039713962763769157 | força: 142.97\n",
      "Membro 3: tensao: 2817444.06 | deformacao: 0.000704361016100635 | força: 253.57\n",
      "Membro 4: tensao: 1561863.12 | deformacao: 0.00039046578024091 | força: 140.57\n",
      "Membro 5: tensao: -2977028.66 | deformacao: -0.0007442571642019302 | força: -267.93\n",
      "Membro 6: tensao: -15248746.83 | deformacao: -0.0038121867075794733 | força: -1372.39\n",
      "Membro 7: tensao: -13354077.61 | deformacao: -0.003338519401724613 | força: -1201.87\n",
      "Membro 8: tensao: -15405764.11 | deformacao: -0.003851441028070817 | força: -1386.52\n",
      "Membro 9: tensao: -13174427.4 | deformacao: -0.003293606849801437 | força: -1185.7\n",
      "Membro 10: tensao: -14933614.64 | deformacao: -0.0037334036601846814 | força: -1344.03\n",
      "Membro 11: tensao: 3630128.04 | deformacao: 0.0009075320098204064 | força: 326.71\n",
      "Membro 12: tensao: 1974729.07 | deformacao: 0.000493682267223796 | força: 177.73\n",
      "Membro 13: tensao: 1995881.79 | deformacao: 0.0004989704479846346 | força: 179.63\n",
      "Membro 14: tensao: 3514336.06 | deformacao: 0.0008785840161184991 | força: 316.29\n",
      "Membro 15: tensao: -667494.26 | deformacao: -0.00016687356401639479 | força: -60.07\n",
      "Membro 16: tensao: -634403.81 | deformacao: -0.00015860095323503532 | força: -57.1\n",
      "Membro 17: tensao: -2475935.4 | deformacao: -0.0006189838487832827 | força: -222.83\n",
      "Membro 18: tensao: -2477094.52 | deformacao: -0.0006192736291661784 | força: -222.94\n",
      "Membro 19: tensao: -5613465.91 | deformacao: -0.001403366477106319 | força: -505.21\n",
      "Membro 20: tensao: -5621177.23 | deformacao: -0.0014052943066333306 | força: -505.91\n",
      "Membro 21: tensao: -5812004.77 | deformacao: -0.0014530011925893015 | força: -523.08\n",
      "Membro 22: tensao: -5810409.37 | deformacao: -0.001452602342028818 | força: -522.94\n"
     ]
    }
   ],
   "source": [
    "forca_membros=[]\n",
    "tensao_membros=[]\n",
    "deform_membros=[]\n",
    "for i in range(num_membros):\n",
    "    tensao, deformacao, forca = tensao_e_deformacao(i+1, num_membros, u_completo, matriz_incidencia, matriz_nos, area)\n",
    "    forca_membros.append(forca)\n",
    "    tensao_membros.append(tensao)\n",
    "    deform_membros.append(deformacao)\n",
    "    print(\"Membro {0}: tensao: {1} | deformacao: {2} | força: {3}\".format(i+1, round(tensao,2), deformacao, round(forca,2)))"
   ]
  },
  {
   "cell_type": "code",
   "execution_count": 219,
   "metadata": {},
   "outputs": [
    {
     "data": {
      "text/plain": [
       "-15405764.112283267"
      ]
     },
     "execution_count": 219,
     "metadata": {},
     "output_type": "execute_result"
    }
   ],
   "source": [
    "min(tensao_membros)"
   ]
  },
  {
   "cell_type": "code",
   "execution_count": 220,
   "metadata": {},
   "outputs": [
    {
     "data": {
      "text/plain": [
       "3630128.0392816253"
      ]
     },
     "execution_count": 220,
     "metadata": {},
     "output_type": "execute_result"
    }
   ],
   "source": [
    "max(tensao_membros)"
   ]
  },
  {
   "cell_type": "code",
   "execution_count": 221,
   "metadata": {},
   "outputs": [],
   "source": [
    "#Algum membro ultrapassou a tensão de ruptura em tração ou compressão;\n",
    "min(tensao_membros)\n",
    "for e in tensao_membros:\n",
    "    if abs(e) > 18*(10**6):\n",
    "        print(\"Colapso\")"
   ]
  },
  {
   "cell_type": "code",
   "execution_count": 222,
   "metadata": {},
   "outputs": [],
   "source": [
    "#Algum membro teve deformação maior do que 5%.\n",
    "for i in deform_membros:\n",
    "    if i > 0.05:\n",
    "        print(\"Colapso\")"
   ]
  },
  {
   "cell_type": "code",
   "execution_count": 351,
   "metadata": {},
   "outputs": [],
   "source": [
    "#Algum nó se deslocou mais do que 20mm em X ou em Y.\n",
    "for us in u_completo:\n",
    "    if abs(us) > 0.02:\n",
    "         print(\"Colapso\")"
   ]
  },
  {
   "cell_type": "code",
   "execution_count": 224,
   "metadata": {},
   "outputs": [
    {
     "name": "stdout",
     "output_type": "stream",
     "text": [
      "Soma peso: 0.14011528513011967 kg\n",
      "Max comprimento: 0.10897706180660223\n"
     ]
    }
   ],
   "source": [
    "peso, compr = valida_peso_comprimento(matriz_nos, matriz_incidencia, 848, area,num_membros)\n",
    "print(\"Soma peso: {0} kg\\nMax comprimento: {1}\".format(sum(peso), max(compr)))"
   ]
  },
  {
   "cell_type": "code",
   "execution_count": 225,
   "metadata": {},
   "outputs": [],
   "source": [
    "x = list(matriz_nos[0, :])\n",
    "y = list(matriz_nos[1, :])"
   ]
  },
  {
   "cell_type": "code",
   "execution_count": 226,
   "metadata": {
    "scrolled": false
   },
   "outputs": [
    {
     "data": {
      "image/png": "[encoded data removed]",
      "text/plain": [
       "<Figure size 432x288 with 1 Axes>"
      ]
     },
     "metadata": {
      "needs_background": "light"
     },
     "output_type": "display_data"
    }
   ],
   "source": [
    "# Plotando a treliça sem os deslocamentos\n",
    "for i in range(num_membros):\n",
    "    no_1 = int(matriz_incidencia[i-1, 0])\n",
    "    no_2 = int(matriz_incidencia[i-1, 1])\n",
    "    \n",
    "    x_nos = []\n",
    "    y_nos = []\n",
    "    \n",
    "    x_nos.append(matriz_nos[0, no_1-1])\n",
    "    x_nos.append(matriz_nos[0, no_2-1])\n",
    "    \n",
    "    y_nos.append(matriz_nos[1, no_1-1])\n",
    "    y_nos.append(matriz_nos[1, no_2-1])\n",
    "    \n",
    "    plt.plot(x_nos, y_nos, color=\"red\")"
   ]
  },
  {
   "cell_type": "markdown",
   "metadata": {},
   "source": [
    "# Treliça 3_1 - MAX: 720"
   ]
  },
  {
   "cell_type": "code",
   "execution_count": 72,
   "metadata": {},
   "outputs": [],
   "source": [
    "num_nos, matriz_nos, num_membros, matriz_incidencia, num_cargas, v_carregamento, num_rest, v_rest = importa(\"entrada3_1.xlsx\")"
   ]
  },
  {
   "cell_type": "code",
   "execution_count": 179,
   "metadata": {},
   "outputs": [],
   "source": [
    "v_carregamento[13] = -720\n",
    "v_carregamento[15] = -720"
   ]
  },
  {
   "cell_type": "code",
   "execution_count": 180,
   "metadata": {},
   "outputs": [],
   "source": [
    "#calcula matriz de conectividade global\n",
    "conectividade_global = conec_global_T(matriz_incidencia, num_membros, num_nos)\n",
    "conectividade_global;"
   ]
  },
  {
   "cell_type": "code",
   "execution_count": 181,
   "metadata": {},
   "outputs": [],
   "source": [
    "#calcula matriz dos membros\n",
    "matriz_dos_membros = np.dot(matriz_nos, conectividade_global) \n",
    "matriz_dos_membros;"
   ]
  },
  {
   "cell_type": "code",
   "execution_count": 182,
   "metadata": {},
   "outputs": [],
   "source": [
    "calculate_Se(1, matriz_incidencia, matriz_nos, matriz_dos_membros);"
   ]
  },
  {
   "cell_type": "code",
   "execution_count": 183,
   "metadata": {},
   "outputs": [],
   "source": [
    "calculate_K(1, matriz_incidencia, matriz_nos, matriz_dos_membros, num_nos);"
   ]
  },
  {
   "cell_type": "code",
   "execution_count": 184,
   "metadata": {},
   "outputs": [],
   "source": [
    "#caclula matriz de rigidez global\n",
    "KG = matriz_global(num_nos, num_membros, matriz_incidencia, matriz_nos, matriz_dos_membros) "
   ]
  },
  {
   "cell_type": "code",
   "execution_count": 185,
   "metadata": {},
   "outputs": [],
   "source": [
    "KG;"
   ]
  },
  {
   "cell_type": "code",
   "execution_count": 186,
   "metadata": {},
   "outputs": [],
   "source": [
    "#condição de contorno\n",
    "Pg = vetor_global_de_forcas(num_rest, v_rest, v_carregamento)\n",
    "Pg;"
   ]
  },
  {
   "cell_type": "code",
   "execution_count": 187,
   "metadata": {},
   "outputs": [],
   "source": [
    "#exclui linhas e colunas\n",
    "KG_solucao = MR_para_solucao(KG, v_rest)"
   ]
  },
  {
   "cell_type": "code",
   "execution_count": 188,
   "metadata": {},
   "outputs": [
    {
     "name": "stderr",
     "output_type": "stream",
     "text": [
      " 10%|███████▍                                                                  | 9986/100000 [00:03<00:33, 2707.80it/s]"
     ]
    },
    {
     "name": "stdout",
     "output_type": "stream",
     "text": [
      "Convergiu na 10024º iteracao\n"
     ]
    },
    {
     "name": "stderr",
     "output_type": "stream",
     "text": [
      "\n"
     ]
    }
   ],
   "source": [
    "#calcula os deslocamentos usando a solução de gauss\n",
    "u = solucao_gauss(KG_solucao, Pg, 100000, 1e-4)"
   ]
  },
  {
   "cell_type": "code",
   "execution_count": 189,
   "metadata": {},
   "outputs": [],
   "source": [
    "#adiciona 0 nos deslocamentos nulos\n",
    "u_completo = completa_u(u, v_rest)"
   ]
  },
  {
   "cell_type": "code",
   "execution_count": 190,
   "metadata": {},
   "outputs": [],
   "source": [
    "u_completo;"
   ]
  },
  {
   "cell_type": "code",
   "execution_count": 191,
   "metadata": {},
   "outputs": [],
   "source": [
    "#calcula todas as forças de apoio\n",
    "forcas = calculate_force_complete(KG, u_completo, v_rest)"
   ]
  },
  {
   "cell_type": "code",
   "execution_count": 192,
   "metadata": {},
   "outputs": [
    {
     "name": "stdout",
     "output_type": "stream",
     "text": [
      "R1x: [1694.67186667]\n",
      "R1y: [719.91734631]\n",
      "R2x: [-1695.91868388]\n",
      "R2y: [720.08100978]\n"
     ]
    }
   ],
   "source": [
    "title_to_print = [\"R1x\", \"R1y\", \"R2x\", \"R2y\"]\n",
    "for i in range(len(title_to_print)):\n",
    "    print(\"{0}: {1}\".format(title_to_print[i], forcas[i]))"
   ]
  },
  {
   "cell_type": "code",
   "execution_count": 193,
   "metadata": {},
   "outputs": [],
   "source": [
    "#área fornecida pela estrutura\n",
    "area = 0.00009"
   ]
  },
  {
   "cell_type": "code",
   "execution_count": 194,
   "metadata": {
    "scrolled": true
   },
   "outputs": [
    {
     "name": "stdout",
     "output_type": "stream",
     "text": [
      "Membro 1: tensao: -3031085.44 | deformacao: -0.0007577713610507922 | força: -272.8\n",
      "Membro 2: tensao: 1844777.63 | deformacao: 0.00046119440628893235 | força: 166.03\n",
      "Membro 3: tensao: 3271870.53 | deformacao: 0.0008179676316007368 | força: 294.47\n",
      "Membro 4: tensao: 1813776.53 | deformacao: 0.00045344413189266894 | força: 163.24\n",
      "Membro 5: tensao: -3457194.57 | deformacao: -0.0008642986422990136 | força: -311.15\n",
      "Membro 6: tensao: -17708222.13 | deformacao: -0.004427055531382609 | força: -1593.74\n",
      "Membro 7: tensao: -15507961.09 | deformacao: -0.003876990272970515 | força: -1395.72\n",
      "Membro 8: tensao: -17890564.78 | deformacao: -0.00447264119388869 | força: -1610.15\n",
      "Membro 9: tensao: -15299335.04 | deformacao: -0.0038248337610597314 | força: -1376.94\n",
      "Membro 10: tensao: -17342262.16 | deformacao: -0.004335565540859632 | força: -1560.8\n",
      "Membro 11: tensao: 4215632.56 | deformacao: 0.0010539081404365995 | força: 379.41\n",
      "Membro 12: tensao: 2293233.76 | deformacao: 0.0005733084393566612 | força: 206.39\n",
      "Membro 13: tensao: 2317798.21 | deformacao: 0.0005794495524982858 | força: 208.6\n",
      "Membro 14: tensao: 4081164.46 | deformacao: 0.001020291115492442 | força: 367.3\n",
      "Membro 15: tensao: -775154.62 | deformacao: -0.000193788654986775 | força: -69.76\n",
      "Membro 16: tensao: -736727.01 | deformacao: -0.000184181752143913 | força: -66.31\n",
      "Membro 17: tensao: -2875279.81 | deformacao: -0.0007188199534257519 | força: -258.78\n",
      "Membro 18: tensao: -2876625.89 | deformacao: -0.0007191564725800767 | força: -258.9\n",
      "Membro 19: tensao: -6518863.64 | deformacao: -0.0016297159088976664 | força: -586.7\n",
      "Membro 20: tensao: -6527818.71 | deformacao: -0.0016319546786709588 | força: -587.5\n",
      "Membro 21: tensao: -6749424.89 | deformacao: -0.0016873562236520928 | força: -607.45\n",
      "Membro 22: tensao: -6747572.17 | deformacao: -0.001686893042356052 | força: -607.28\n"
     ]
    }
   ],
   "source": [
    "forca_membros=[]\n",
    "tensao_membros=[]\n",
    "deform_membros=[]\n",
    "for i in range(num_membros):\n",
    "    tensao, deformacao, forca = tensao_e_deformacao(i+1, num_membros, u_completo, matriz_incidencia, matriz_nos, area)\n",
    "    forca_membros.append(forca)\n",
    "    tensao_membros.append(tensao)\n",
    "    deform_membros.append(deformacao)\n",
    "    print(\"Membro {0}: tensao: {1} | deformacao: {2} | força: {3}\".format(i+1, round(tensao,2), deformacao, round(forca,2)))"
   ]
  },
  {
   "cell_type": "code",
   "execution_count": 195,
   "metadata": {},
   "outputs": [
    {
     "data": {
      "text/plain": [
       "-17890564.77555476"
      ]
     },
     "execution_count": 195,
     "metadata": {},
     "output_type": "execute_result"
    }
   ],
   "source": [
    "min(tensao_membros)"
   ]
  },
  {
   "cell_type": "code",
   "execution_count": 196,
   "metadata": {},
   "outputs": [
    {
     "data": {
      "text/plain": [
       "4215632.561746399"
      ]
     },
     "execution_count": 196,
     "metadata": {},
     "output_type": "execute_result"
    }
   ],
   "source": [
    "max(tensao_membros)"
   ]
  },
  {
   "cell_type": "code",
   "execution_count": 197,
   "metadata": {},
   "outputs": [],
   "source": [
    "#Algum membro ultrapassou a tensão de ruptura em tração ou compressão;\n",
    "min(tensao_membros)\n",
    "for e in tensao_membros:\n",
    "    if abs(e) > 18*(10**6):\n",
    "        print(\"Colapso\")"
   ]
  },
  {
   "cell_type": "code",
   "execution_count": 198,
   "metadata": {},
   "outputs": [],
   "source": [
    "#Algum membro teve deformação maior do que 5%.\n",
    "for i in deform_membros:\n",
    "    if i > 0.05:\n",
    "        print(\"Colapso\")"
   ]
  },
  {
   "cell_type": "code",
   "execution_count": 350,
   "metadata": {},
   "outputs": [],
   "source": [
    "#Algum nó se deslocou mais do que 20mm em X ou em Y.\n",
    "for us in u_completo:\n",
    "    if abs(us) > 0.02:\n",
    "         print(\"Colapso\")"
   ]
  },
  {
   "cell_type": "code",
   "execution_count": 200,
   "metadata": {},
   "outputs": [
    {
     "name": "stdout",
     "output_type": "stream",
     "text": [
      "Soma peso: 0.14011528513011967 kg\n",
      "Max comprimento: 0.10897706180660223\n"
     ]
    }
   ],
   "source": [
    "peso, compr = valida_peso_comprimento(matriz_nos, matriz_incidencia, 848, area,num_membros)\n",
    "print(\"Soma peso: {0} kg\\nMax comprimento: {1}\".format(sum(peso), max(compr)))"
   ]
  },
  {
   "cell_type": "code",
   "execution_count": 201,
   "metadata": {},
   "outputs": [],
   "source": [
    "x = list(matriz_nos[0, :])\n",
    "y = list(matriz_nos[1, :])"
   ]
  },
  {
   "cell_type": "code",
   "execution_count": 202,
   "metadata": {
    "scrolled": false
   },
   "outputs": [
    {
     "data": {
      "image/png": "[encoded data removed]",
      "text/plain": [
       "<Figure size 432x288 with 1 Axes>"
      ]
     },
     "metadata": {
      "needs_background": "light"
     },
     "output_type": "display_data"
    }
   ],
   "source": [
    "# Plotando a treliça sem os deslocamentos\n",
    "for i in range(num_membros):\n",
    "    no_1 = int(matriz_incidencia[i-1, 0])\n",
    "    no_2 = int(matriz_incidencia[i-1, 1])\n",
    "    \n",
    "    x_nos = []\n",
    "    y_nos = []\n",
    "    \n",
    "    x_nos.append(matriz_nos[0, no_1-1])\n",
    "    x_nos.append(matriz_nos[0, no_2-1])\n",
    "    \n",
    "    y_nos.append(matriz_nos[1, no_1-1])\n",
    "    y_nos.append(matriz_nos[1, no_2-1])\n",
    "    \n",
    "    plt.plot(x_nos, y_nos, color=\"red\")"
   ]
  },
  {
   "cell_type": "markdown",
   "metadata": {},
   "source": [
    "# Treliça 3_2 - MAX: 1000"
   ]
  },
  {
   "cell_type": "code",
   "execution_count": 252,
   "metadata": {},
   "outputs": [],
   "source": [
    "num_nos, matriz_nos, num_membros, matriz_incidencia, num_cargas, v_carregamento, num_rest, v_rest = importa(\"entrada3_2.xlsx\")"
   ]
  },
  {
   "cell_type": "code",
   "execution_count": 352,
   "metadata": {},
   "outputs": [],
   "source": [
    "v_carregamento[13] = -1020\n",
    "v_carregamento[15] = -1020"
   ]
  },
  {
   "cell_type": "code",
   "execution_count": 353,
   "metadata": {},
   "outputs": [],
   "source": [
    "#calcula matriz de conectividade global\n",
    "conectividade_global = conec_global_T(matriz_incidencia, num_membros, num_nos)\n",
    "conectividade_global;"
   ]
  },
  {
   "cell_type": "code",
   "execution_count": 354,
   "metadata": {},
   "outputs": [],
   "source": [
    "#calcula matriz dos membros\n",
    "matriz_dos_membros = np.dot(matriz_nos, conectividade_global) \n",
    "matriz_dos_membros;"
   ]
  },
  {
   "cell_type": "code",
   "execution_count": 355,
   "metadata": {},
   "outputs": [],
   "source": [
    "calculate_Se(1, matriz_incidencia, matriz_nos, matriz_dos_membros);"
   ]
  },
  {
   "cell_type": "code",
   "execution_count": 356,
   "metadata": {},
   "outputs": [],
   "source": [
    "calculate_K(1, matriz_incidencia, matriz_nos, matriz_dos_membros, num_nos);"
   ]
  },
  {
   "cell_type": "code",
   "execution_count": 357,
   "metadata": {},
   "outputs": [],
   "source": [
    "#caclula matriz de rigidez global\n",
    "KG = matriz_global(num_nos, num_membros, matriz_incidencia, matriz_nos, matriz_dos_membros) "
   ]
  },
  {
   "cell_type": "code",
   "execution_count": 358,
   "metadata": {},
   "outputs": [],
   "source": [
    "KG;"
   ]
  },
  {
   "cell_type": "code",
   "execution_count": 359,
   "metadata": {},
   "outputs": [],
   "source": [
    "#condição de contorno\n",
    "Pg = vetor_global_de_forcas(num_rest, v_rest, v_carregamento)\n",
    "Pg;"
   ]
  },
  {
   "cell_type": "code",
   "execution_count": 360,
   "metadata": {},
   "outputs": [],
   "source": [
    "#exclui linhas e colunas\n",
    "KG_solucao = MR_para_solucao(KG, v_rest)"
   ]
  },
  {
   "cell_type": "code",
   "execution_count": 361,
   "metadata": {},
   "outputs": [
    {
     "name": "stderr",
     "output_type": "stream",
     "text": [
      " 10%|███████▎                                                                  | 9880/100000 [00:03<00:26, 3446.97it/s]"
     ]
    },
    {
     "name": "stdout",
     "output_type": "stream",
     "text": [
      "Convergiu na 10014º iteracao\n"
     ]
    },
    {
     "name": "stderr",
     "output_type": "stream",
     "text": [
      "\n"
     ]
    }
   ],
   "source": [
    "#calcula os deslocamentos usando a solução de gauss\n",
    "u = solucao_gauss(KG_solucao, Pg, 100000, 1e-4)"
   ]
  },
  {
   "cell_type": "code",
   "execution_count": 362,
   "metadata": {},
   "outputs": [],
   "source": [
    "#adiciona 0 nos deslocamentos nulos\n",
    "u_completo = completa_u(u, v_rest)"
   ]
  },
  {
   "cell_type": "code",
   "execution_count": 363,
   "metadata": {},
   "outputs": [],
   "source": [
    "u_completo;"
   ]
  },
  {
   "cell_type": "code",
   "execution_count": 364,
   "metadata": {},
   "outputs": [],
   "source": [
    "#calcula todas as forças de apoio\n",
    "forcas = calculate_force_complete(KG, u_completo, v_rest)"
   ]
  },
  {
   "cell_type": "code",
   "execution_count": 365,
   "metadata": {},
   "outputs": [
    {
     "name": "stdout",
     "output_type": "stream",
     "text": [
      "R1x: [502.13582799]\n",
      "R1y: [447.76604842]\n",
      "R2x: [-518.00544736]\n",
      "R2y: [451.04286007]\n"
     ]
    }
   ],
   "source": [
    "title_to_print = [\"R1x\", \"R1y\", \"R2x\", \"R2y\"]\n",
    "for i in range(len(title_to_print)):\n",
    "    print(\"{0}: {1}\".format(title_to_print[i], forcas[i]))"
   ]
  },
  {
   "cell_type": "code",
   "execution_count": 366,
   "metadata": {},
   "outputs": [],
   "source": [
    "#área fornecida pela estrutura\n",
    "area = 0.00009"
   ]
  },
  {
   "cell_type": "code",
   "execution_count": 367,
   "metadata": {
    "scrolled": true
   },
   "outputs": [
    {
     "name": "stdout",
     "output_type": "stream",
     "text": [
      "Membro 1: tensao: 4246948.78 | deformacao: 0.001061737195299824 | força: 382.23\n",
      "Membro 2: tensao: -4288681.31 | deformacao: -0.0010721703273968127 | força: -385.98\n",
      "Membro 3: tensao: 453289.19 | deformacao: 0.00011332229663972213 | força: 40.8\n",
      "Membro 4: tensao: -4232353.23 | deformacao: -0.0010580883077754178 | força: -380.91\n",
      "Membro 5: tensao: 3882051.87 | deformacao: 0.0009705129671029164 | força: 349.38\n",
      "Membro 6: tensao: -11013959.71 | deformacao: -0.002753489927149848 | força: -991.26\n",
      "Membro 7: tensao: -12171847.5 | deformacao: -0.003042961874502011 | força: -1095.47\n",
      "Membro 8: tensao: -17576648.08 | deformacao: -0.004394162020964458 | força: -1581.9\n",
      "Membro 9: tensao: -11935964.97 | deformacao: -0.002983991242907804 | força: -1074.24\n",
      "Membro 10: tensao: -10862810.46 | deformacao: -0.0027157026153959386 | força: -977.65\n",
      "Membro 11: tensao: 828050.21 | deformacao: 0.00020701255216425495 | força: 74.52\n",
      "Membro 12: tensao: 1651938.8 | deformacao: 0.00041298470087366545 | força: 148.67\n",
      "Membro 13: tensao: 1610899.26 | deformacao: 0.0004027248161744841 | força: 144.98\n",
      "Membro 14: tensao: 593456.26 | deformacao: 0.00014836406499850018 | força: 53.41\n",
      "Membro 15: tensao: 2156247.0 | deformacao: 0.0005390617489620693 | força: 194.06\n",
      "Membro 16: tensao: 2092203.43 | deformacao: 0.0005230508580774758 | força: 188.3\n",
      "Membro 17: tensao: -3869075.05 | deformacao: -0.0009672687633435399 | força: -348.22\n",
      "Membro 18: tensao: -3854248.93 | deformacao: -0.0009635622336523038 | força: -346.88\n",
      "Membro 19: tensao: -11133633.5 | deformacao: -0.002783408373751607 | força: -1002.03\n",
      "Membro 20: tensao: -11148927.97 | deformacao: -0.0027872319914139855 | força: -1003.4\n",
      "Membro 21: tensao: -11430997.88 | deformacao: -0.002857749468750915 | força: -1028.79\n",
      "Membro 22: tensao: -11427860.05 | deformacao: -0.0028569650131130696 | força: -1028.51\n",
      "Membro 23: tensao: -18335563.9 | deformacao: -0.00458389097394475 | força: -1650.2\n",
      "Membro 24: tensao: -18172733.36 | deformacao: -0.004543183339724697 | força: -1635.55\n"
     ]
    }
   ],
   "source": [
    "forca_membros=[]\n",
    "tensao_membros=[]\n",
    "deform_membros=[]\n",
    "for i in range(num_membros):\n",
    "    tensao, deformacao, forca = tensao_e_deformacao(i+1, num_membros, u_completo, matriz_incidencia, matriz_nos, area)\n",
    "    forca_membros.append(forca)\n",
    "    tensao_membros.append(tensao)\n",
    "    deform_membros.append(deformacao)\n",
    "    print(\"Membro {0}: tensao: {1} | deformacao: {2} | força: {3}\".format(i+1, round(tensao,2), deformacao, round(forca,2)))"
   ]
  },
  {
   "cell_type": "code",
   "execution_count": 368,
   "metadata": {},
   "outputs": [
    {
     "data": {
      "text/plain": [
       "-18335563.895779"
      ]
     },
     "execution_count": 368,
     "metadata": {},
     "output_type": "execute_result"
    }
   ],
   "source": [
    "min(tensao_membros)"
   ]
  },
  {
   "cell_type": "code",
   "execution_count": 369,
   "metadata": {},
   "outputs": [
    {
     "data": {
      "text/plain": [
       "4246948.781199296"
      ]
     },
     "execution_count": 369,
     "metadata": {},
     "output_type": "execute_result"
    }
   ],
   "source": [
    "max(tensao_membros)"
   ]
  },
  {
   "cell_type": "code",
   "execution_count": 370,
   "metadata": {},
   "outputs": [
    {
     "name": "stdout",
     "output_type": "stream",
     "text": [
      "Colapso\n",
      "Colapso\n"
     ]
    }
   ],
   "source": [
    "#Algum membro ultrapassou a tensão de ruptura em tração ou compressão;\n",
    "min(tensao_membros)\n",
    "for e in tensao_membros:\n",
    "    if abs(e) > 18*(10**6):\n",
    "        print(\"Colapso\")"
   ]
  },
  {
   "cell_type": "code",
   "execution_count": 371,
   "metadata": {},
   "outputs": [],
   "source": [
    "#Algum membro teve deformação maior do que 5%.\n",
    "for i in deform_membros:\n",
    "    if i > 0.05:\n",
    "        print(\"Colapso\")"
   ]
  },
  {
   "cell_type": "code",
   "execution_count": 349,
   "metadata": {},
   "outputs": [],
   "source": [
    "#Algum nó se deslocou mais do que 20mm em X ou em Y.\n",
    "for us in u_completo:\n",
    "    if abs(us) > 0.02:\n",
    "         print(\"Colapso\")"
   ]
  },
  {
   "cell_type": "code",
   "execution_count": 346,
   "metadata": {},
   "outputs": [
    {
     "name": "stdout",
     "output_type": "stream",
     "text": [
      "Soma peso: 0.15110244974343096 kg\n",
      "Max comprimento: 0.10897706180660223\n"
     ]
    }
   ],
   "source": [
    "peso, compr = valida_peso_comprimento(matriz_nos, matriz_incidencia, 848, area,num_membros)\n",
    "print(\"Soma peso: {0} kg\\nMax comprimento: {1}\".format(sum(peso), max(compr)))"
   ]
  },
  {
   "cell_type": "code",
   "execution_count": 347,
   "metadata": {},
   "outputs": [],
   "source": [
    "x = list(matriz_nos[0, :])\n",
    "y = list(matriz_nos[1, :])"
   ]
  },
  {
   "cell_type": "code",
   "execution_count": 348,
   "metadata": {
    "scrolled": true
   },
   "outputs": [
    {
     "data": {
      "image/png": "[encoded data removed]",
      "text/plain": [
       "<Figure size 432x288 with 1 Axes>"
      ]
     },
     "metadata": {
      "needs_background": "light"
     },
     "output_type": "display_data"
    }
   ],
   "source": [
    "# Plotando a treliça sem os deslocamentos\n",
    "for i in range(num_membros):\n",
    "    no_1 = int(matriz_incidencia[i-1, 0])\n",
    "    no_2 = int(matriz_incidencia[i-1, 1])\n",
    "    \n",
    "    x_nos = []\n",
    "    y_nos = []\n",
    "    \n",
    "    x_nos.append(matriz_nos[0, no_1-1])\n",
    "    x_nos.append(matriz_nos[0, no_2-1])\n",
    "    \n",
    "    y_nos.append(matriz_nos[1, no_1-1])\n",
    "    y_nos.append(matriz_nos[1, no_2-1])\n",
    "    \n",
    "    plt.plot(x_nos, y_nos, color=\"red\")"
   ]
  },
  {
   "cell_type": "code",
   "execution_count": null,
   "metadata": {},
   "outputs": [],
   "source": []
  }
 ],
 "metadata": {
  "kernelspec": {
   "display_name": "Python 3",
   "language": "python",
   "name": "python3"
  },
  "language_info": {
   "codemirror_mode": {
    "name": "ipython",
    "version": 3
   },
   "file_extension": ".py",
   "mimetype": "text/x-python",
   "name": "python",
   "nbconvert_exporter": "python",
   "pygments_lexer": "ipython3",
   "version": "3.7.3"
  }
 },
 "nbformat": 4,
 "nbformat_minor": 4
}
